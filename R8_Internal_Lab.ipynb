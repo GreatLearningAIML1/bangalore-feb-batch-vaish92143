{
  "nbformat": 4,
  "nbformat_minor": 0,
  "metadata": {
    "accelerator": "GPU",
    "colab": {
      "name": "Copy of R8_Internal_Lab_Questions.ipynb",
      "version": "0.3.2",
      "provenance": [],
      "collapsed_sections": []
    },
    "kernelspec": {
      "display_name": "Python 3",
      "language": "python",
      "name": "python3"
    },
    "language_info": {
      "codemirror_mode": {
        "name": "ipython",
        "version": 3
      },
      "file_extension": ".py",
      "mimetype": "text/x-python",
      "name": "python",
      "nbconvert_exporter": "python",
      "pygments_lexer": "ipython3",
      "version": "3.7.1"
    }
  },
  "cells": [
    {
      "cell_type": "markdown",
      "metadata": {
        "colab_type": "text",
        "id": "NFfDTfhlaEI_"
      },
      "source": [
        "# Transfer Learning MNIST"
      ]
    },
    {
      "cell_type": "markdown",
      "metadata": {
        "colab_type": "text",
        "id": "rNwbqCFRaEJC"
      },
      "source": [
        "* Train a simple convnet on the MNIST dataset the first 5 digits [0-4].\n",
        "* Freeze convolutional layers and fine-tune dense layers for the classification of digits [5-9]."
      ]
    },
    {
      "cell_type": "markdown",
      "metadata": {
        "id": "5Dnzaw1i5sXF",
        "colab_type": "text"
      },
      "source": [
        "## MNIST Dataset\n",
        "The MNIST database contains 60,000 training images and 10,000 testing images taken from American Census Bureau employees and American high school students. The MNIST dataset is one of the most common datasets used for image classification and accessible from many different sources. In fact, even Tensorflow and Keras allow us to import and download the MNIST dataset directly from their API."
      ]
    },
    {
      "cell_type": "markdown",
      "metadata": {
        "id": "bpUULy1Z5sXF",
        "colab_type": "text"
      },
      "source": [
        "Let's import keras and load MNIST dataset"
      ]
    },
    {
      "cell_type": "code",
      "metadata": {
        "id": "KiG7IPhm5sXG",
        "colab_type": "code",
        "colab": {}
      },
      "source": [
        "# Initialize the random number generator\n",
        "import random\n",
        "random.seed(0)\n",
        "\n",
        "import warnings\n",
        "warnings.filterwarnings(\"ignore\")"
      ],
      "execution_count": 0,
      "outputs": []
    },
    {
      "cell_type": "code",
      "metadata": {
        "id": "ZqUiJM_Z5sXL",
        "colab_type": "code",
        "outputId": "fbade05a-e9ec-46c0-959a-7f2f7724649a",
        "colab": {
          "base_uri": "https://localhost:8080/",
          "height": 67
        }
      },
      "source": [
        "from keras.backend import backend\n",
        "from keras.datasets import mnist\n",
        "\n",
        "# the data, shuffled and split between train and test sets\n",
        "(X_train, y_train), (X_test, y_test) = mnist.load_data()"
      ],
      "execution_count": 0,
      "outputs": [
        {
          "output_type": "stream",
          "text": [
            "Using TensorFlow backend.\n"
          ],
          "name": "stderr"
        },
        {
          "output_type": "stream",
          "text": [
            "Downloading data from https://s3.amazonaws.com/img-datasets/mnist.npz\n",
            "11493376/11490434 [==============================] - 2s 0us/step\n"
          ],
          "name": "stdout"
        }
      ]
    },
    {
      "cell_type": "markdown",
      "metadata": {
        "id": "RVw4wsuW5sXO",
        "colab_type": "text"
      },
      "source": [
        "X_train and X_test contain greyscale RGB codes (from 0 to 255) while y_train and y_test contains labels from 0 to 9 which represents which number they actually are."
      ]
    },
    {
      "cell_type": "markdown",
      "metadata": {
        "id": "xgQ86Vhw5sXP",
        "colab_type": "text"
      },
      "source": [
        "Let's visualize some numbers using matplotlib"
      ]
    },
    {
      "cell_type": "code",
      "metadata": {
        "id": "VZwg00gO5sXQ",
        "colab_type": "code",
        "outputId": "b58635b3-8f58-48dc-a27a-fe6be68f4f2b",
        "colab": {
          "base_uri": "https://localhost:8080/",
          "height": 302
        }
      },
      "source": [
        "import matplotlib.pyplot as plt\n",
        "%matplotlib inline\n",
        "print(\"Label: {}\".format(y_train[1000]))\n",
        "plt.imshow(X_train[1000], cmap='gray')"
      ],
      "execution_count": 0,
      "outputs": [
        {
          "output_type": "stream",
          "text": [
            "Label: 0\n"
          ],
          "name": "stdout"
        },
        {
          "output_type": "execute_result",
          "data": {
            "text/plain": [
              "<matplotlib.image.AxesImage at 0x7fb11871fcc0>"
            ]
          },
          "metadata": {
            "tags": []
          },
          "execution_count": 4
        },
        {
          "output_type": "display_data",
          "data": {
            "image/png": "[encoded data removed]",
            "text/plain": [
              "<Figure size 432x288 with 1 Axes>"
            ]
          },
          "metadata": {
            "tags": []
          }
        }
      ]
    },
    {
      "cell_type": "markdown",
      "metadata": {
        "id": "p64mhwp95sXS",
        "colab_type": "text"
      },
      "source": [
        "## Question 1"
      ]
    },
    {
      "cell_type": "markdown",
      "metadata": {
        "id": "XxNAiWYd5sXT",
        "colab_type": "text"
      },
      "source": [
        "### Create two datasets\n",
        "- First having digits from 0 to 4\n",
        "- Second having digits from 5 to 9\n",
        "\n",
        "Hint: use labels to separate data"
      ]
    },
    {
      "cell_type": "code",
      "metadata": {
        "id": "1807m1CL5sXT",
        "colab_type": "code",
        "outputId": "52046b3e-302b-46c5-c4aa-9b88cc3f6b8d",
        "colab": {
          "base_uri": "https://localhost:8080/",
          "height": 34
        }
      },
      "source": [
        "y_train"
      ],
      "execution_count": 0,
      "outputs": [
        {
          "output_type": "execute_result",
          "data": {
            "text/plain": [
              "array([5, 0, 4, ..., 5, 6, 8], dtype=uint8)"
            ]
          },
          "metadata": {
            "tags": []
          },
          "execution_count": 5
        }
      ]
    },
    {
      "cell_type": "code",
      "metadata": {
        "id": "P8aYCAm5Su85",
        "colab_type": "code",
        "colab": {}
      },
      "source": [
        "import numpy as np\n",
        "\n",
        "train_filter_0_4 = np.where(y_train <= 4 )\n",
        "test_filter_0_4 = np.where(y_test <= 4 )\n",
        "\n",
        "train_filter_5_9 = np.where(y_train >= 5 )\n",
        "test_filter_5_9 = np.where(y_test >= 5 )\n",
        "\n",
        "\n",
        "X_train_0_4, Y_train_0_4 = X_train[train_filter_0_4], y_train[train_filter_0_4]\n",
        "X_test_0_4, Y_test_0_4 = X_test[test_filter_0_4], y_test[test_filter_0_4]\n",
        "\n",
        "\n",
        "X_train_5_9, Y_train_5_9 = X_train[train_filter_5_9], y_train[train_filter_5_9]\n",
        "X_test_5_9, Y_test_5_9 = X_test[test_filter_5_9], y_test[test_filter_5_9]"
      ],
      "execution_count": 0,
      "outputs": []
    },
    {
      "cell_type": "markdown",
      "metadata": {
        "id": "M9jKcF1z5sXV",
        "colab_type": "text"
      },
      "source": [
        "## Question 2"
      ]
    },
    {
      "cell_type": "markdown",
      "metadata": {
        "id": "NMo7lvwQ5sXW",
        "colab_type": "text"
      },
      "source": [
        "### Print shape of the data\n",
        "- print shape of all variables of both the datasets you created"
      ]
    },
    {
      "cell_type": "code",
      "metadata": {
        "id": "kH7ZjEoH5sXW",
        "colab_type": "code",
        "outputId": "c31cce75-b2d3-443e-a80d-9963c822d7b0",
        "colab": {
          "base_uri": "https://localhost:8080/",
          "height": 151
        }
      },
      "source": [
        "print('X_train_0_4:', X_train_0_4.shape)\n",
        "print('Y_train_0_4:', Y_train_0_4.shape)\n",
        "print('X_test_0_4:', X_test_0_4.shape)\n",
        "print('Y_test_0_4:', Y_test_0_4.shape)\n",
        "print('X_train_5_9:', X_train_5_9.shape)\n",
        "print('Y_train_5_9:', Y_train_5_9.shape)\n",
        "print('X_test_5_9:', X_test_5_9.shape)\n",
        "print('Y_test_5_9:', Y_test_5_9.shape)"
      ],
      "execution_count": 0,
      "outputs": [
        {
          "output_type": "stream",
          "text": [
            "X_train_0_4: (30596, 28, 28)\n",
            "Y_train_0_4: (30596,)\n",
            "X_test_0_4: (5139, 28, 28)\n",
            "Y_test_0_4: (5139,)\n",
            "X_train_5_9: (29404, 28, 28)\n",
            "Y_train_5_9: (29404,)\n",
            "X_test_5_9: (4861, 28, 28)\n",
            "Y_test_5_9: (4861,)\n"
          ],
          "name": "stdout"
        }
      ]
    },
    {
      "cell_type": "markdown",
      "metadata": {
        "id": "IUU4PkKU5sXY",
        "colab_type": "text"
      },
      "source": [
        "## Question 3"
      ]
    },
    {
      "cell_type": "markdown",
      "metadata": {
        "id": "4I8ajqdt5sXY",
        "colab_type": "text"
      },
      "source": [
        "### Reshape data\n",
        "- reshape first dataset\n",
        "- To be able to use the dataset in Keras, we need 4-dims numpy arrays. \n",
        "- reshape features to pass it to a Conv2D layer\n",
        "- channel = 1\n",
        "- reshape features of first dataset only\n",
        "- do not reshape labels"
      ]
    },
    {
      "cell_type": "code",
      "metadata": {
        "id": "38wgBEcz5sXa",
        "colab_type": "code",
        "colab": {}
      },
      "source": [
        "# Reshaping the array to 4-dims so that it can work with the Keras API\n",
        "xtrain4 = X_train_0_4.reshape(X_train_0_4.shape[0], 28, 28, 1)\n",
        "xtest4 = X_test_0_4.reshape(X_test_0_4.shape[0], 28, 28, 1)\n",
        "\n",
        "#use similar variable names for both datasets\n",
        "xtrain9 = X_train_5_9\n",
        "xtest9 = X_test_5_9"
      ],
      "execution_count": 0,
      "outputs": []
    },
    {
      "cell_type": "markdown",
      "metadata": {
        "id": "_5H-BtNm5sXg",
        "colab_type": "text"
      },
      "source": [
        "## Question 4"
      ]
    },
    {
      "cell_type": "markdown",
      "metadata": {
        "id": "2ahCMtCl5sXh",
        "colab_type": "text"
      },
      "source": [
        "### Normalize data\n",
        "- normalize first dataset\n",
        "- we must normalize our data as it is always required in neural network models\n",
        "- we can achieve this by dividing the RGB codes to 255 (which is the maximum RGB code minus the minimum RGB code)\n",
        "- normalize X_train and X_test\n",
        "- make sure that the values are float so that we can get decimal points after division"
      ]
    },
    {
      "cell_type": "code",
      "metadata": {
        "id": "z4mti7pg5sXj",
        "colab_type": "code",
        "colab": {}
      },
      "source": [
        "# Making sure that the values are float so that we can get decimal points after division\n",
        "xtrain4 = xtrain4.astype('float32')\n",
        "xtest4 = xtest4.astype('float32')\n",
        "# Normalizing the RGB codes by dividing it to the max RGB value.\n",
        "xtrain4 /= 255\n",
        "xtest4 /= 255"
      ],
      "execution_count": 0,
      "outputs": []
    },
    {
      "cell_type": "markdown",
      "metadata": {
        "id": "TfQ6545D5sXp",
        "colab_type": "text"
      },
      "source": [
        "### Print shape of data and number of images\n",
        "- for first dataset\n",
        "- print shape of X_train\n",
        "- print number of images in X_train\n",
        "- print number of images in X_test"
      ]
    },
    {
      "cell_type": "code",
      "metadata": {
        "id": "uQfQXZMo5sXp",
        "colab_type": "code",
        "outputId": "90dc01cc-2b27-4d42-fd87-7038a74f963d",
        "colab": {
          "base_uri": "https://localhost:8080/",
          "height": 151
        }
      },
      "source": [
        "print('xtrain4:', xtrain4.shape)\n",
        "print('Y_train_0_4:', Y_train_0_4.shape)\n",
        "print('xtest4:', xtest4.shape)\n",
        "print('Y_test_0_4:', Y_test_0_4.shape)\n",
        "print('xtrain9:', xtrain9.shape)\n",
        "print('Y_train_5_9:', Y_train_5_9.shape)\n",
        "print('xtest9:', xtest9.shape)\n",
        "print('Y_test_5_9:', Y_test_5_9.shape)"
      ],
      "execution_count": 0,
      "outputs": [
        {
          "output_type": "stream",
          "text": [
            "xtrain4: (30596, 28, 28, 1)\n",
            "Y_train_0_4: (30596,)\n",
            "xtest4: (5139, 28, 28, 1)\n",
            "Y_test_0_4: (5139,)\n",
            "xtrain9: (29404, 28, 28)\n",
            "Y_train_5_9: (29404,)\n",
            "xtest9: (4861, 28, 28)\n",
            "Y_test_5_9: (4861,)\n"
          ],
          "name": "stdout"
        }
      ]
    },
    {
      "cell_type": "markdown",
      "metadata": {
        "id": "9oFjomSh5sXu",
        "colab_type": "text"
      },
      "source": [
        "## Question 5"
      ]
    },
    {
      "cell_type": "markdown",
      "metadata": {
        "id": "2lEFQQNk5sXu",
        "colab_type": "text"
      },
      "source": [
        "### One-hot encode the class vector\n",
        "- encode labels of first dataset\n",
        "- convert class vectors (integers) to binary class matrix\n",
        "- convert y_train and y_test\n",
        "- number of classes: 5\n",
        "- we are doing this to use categorical_crossentropy as loss\n",
        "\n",
        "Hint: you can use keras.utils.to_categorical"
      ]
    },
    {
      "cell_type": "code",
      "metadata": {
        "id": "aejx3Zb35sXv",
        "colab_type": "code",
        "colab": {}
      },
      "source": [
        "import keras\n",
        "num_classes = 5\n",
        "ytrain4 = keras.utils.to_categorical(Y_train_0_4, num_classes)\n",
        "ytest4 = keras.utils.to_categorical(Y_test_0_4, num_classes)\n",
        "\n",
        "#use similar variable names for both datasets\n",
        "ytrain9 = Y_train_5_9\n",
        "ytest9 = Y_test_5_9"
      ],
      "execution_count": 0,
      "outputs": []
    },
    {
      "cell_type": "markdown",
      "metadata": {
        "id": "PlkiipRA5sXw",
        "colab_type": "text"
      },
      "source": [
        "## Question 6\n",
        "We will build our model by using high level Keras."
      ]
    },
    {
      "cell_type": "markdown",
      "metadata": {
        "id": "KzYMC_xm5sXx",
        "colab_type": "text"
      },
      "source": [
        "### Initialize a sequential model\n",
        "- define a sequential model\n",
        "- add 2 convolutional layers\n",
        "    - no of filters: 32\n",
        "    - kernel size: 3x3\n",
        "    - activation: \"relu\"\n",
        "    - input shape: (28, 28, 1) for first layer\n",
        "- add a max pooling layer of size 2x2\n",
        "- add a dropout layer\n",
        "    - dropout layers fight with the overfitting by disregarding some of the neurons while training\n",
        "    - use dropout rate 0.2"
      ]
    },
    {
      "cell_type": "code",
      "metadata": {
        "id": "mDr-HKl-5sXx",
        "colab_type": "code",
        "outputId": "7dc1360a-87ad-44c6-e7f9-e24b3b5787e4",
        "colab": {
          "base_uri": "https://localhost:8080/",
          "height": 255
        }
      },
      "source": [
        "# Importing the required Keras modules containing model and layers\n",
        "from keras.models import Sequential\n",
        "from keras.layers import Dense, Conv2D, Dropout, Flatten, MaxPooling2D\n",
        "\n",
        "num_classes = 5 \n",
        "\n",
        "model = Sequential()\n",
        "\n",
        "# The input layer requires the special input_shape parameter which should match\n",
        "# the shape of our training data.\n",
        "model.add(Conv2D(32, 3, 3, activation='relu', input_shape=(28,28,1)))\n",
        "model.add(Conv2D(32, 3, 3, activation='relu'))\n",
        "model.add(MaxPooling2D(pool_size=(2,2)))\n",
        "model.add(Dropout(0.2))"
      ],
      "execution_count": 0,
      "outputs": [
        {
          "output_type": "stream",
          "text": [
            "WARNING:tensorflow:From /usr/local/lib/python3.6/dist-packages/keras/backend/tensorflow_backend.py:66: The name tf.get_default_graph is deprecated. Please use tf.compat.v1.get_default_graph instead.\n",
            "\n",
            "WARNING:tensorflow:From /usr/local/lib/python3.6/dist-packages/keras/backend/tensorflow_backend.py:541: The name tf.placeholder is deprecated. Please use tf.compat.v1.placeholder instead.\n",
            "\n",
            "WARNING:tensorflow:From /usr/local/lib/python3.6/dist-packages/keras/backend/tensorflow_backend.py:4432: The name tf.random_uniform is deprecated. Please use tf.random.uniform instead.\n",
            "\n",
            "WARNING:tensorflow:From /usr/local/lib/python3.6/dist-packages/keras/backend/tensorflow_backend.py:4267: The name tf.nn.max_pool is deprecated. Please use tf.nn.max_pool2d instead.\n",
            "\n",
            "WARNING:tensorflow:From /usr/local/lib/python3.6/dist-packages/keras/backend/tensorflow_backend.py:148: The name tf.placeholder_with_default is deprecated. Please use tf.compat.v1.placeholder_with_default instead.\n",
            "\n",
            "WARNING:tensorflow:From /usr/local/lib/python3.6/dist-packages/keras/backend/tensorflow_backend.py:3733: calling dropout (from tensorflow.python.ops.nn_ops) with keep_prob is deprecated and will be removed in a future version.\n",
            "Instructions for updating:\n",
            "Please use `rate` instead of `keep_prob`. Rate should be set to `rate = 1 - keep_prob`.\n"
          ],
          "name": "stdout"
        }
      ]
    },
    {
      "cell_type": "code",
      "metadata": {
        "id": "vCgIr2yNbWTJ",
        "colab_type": "code",
        "outputId": "aedcfc58-99f2-46bf-c696-9d46f5ffd7d0",
        "colab": {
          "base_uri": "https://localhost:8080/",
          "height": 286
        }
      },
      "source": [
        "model.summary()"
      ],
      "execution_count": 0,
      "outputs": [
        {
          "output_type": "stream",
          "text": [
            "Model: \"sequential_1\"\n",
            "_________________________________________________________________\n",
            "Layer (type)                 Output Shape              Param #   \n",
            "=================================================================\n",
            "conv2d_1 (Conv2D)            (None, 26, 26, 32)        320       \n",
            "_________________________________________________________________\n",
            "conv2d_2 (Conv2D)            (None, 24, 24, 32)        9248      \n",
            "_________________________________________________________________\n",
            "max_pooling2d_1 (MaxPooling2 (None, 12, 12, 32)        0         \n",
            "_________________________________________________________________\n",
            "dropout_1 (Dropout)          (None, 12, 12, 32)        0         \n",
            "=================================================================\n",
            "Total params: 9,568\n",
            "Trainable params: 9,568\n",
            "Non-trainable params: 0\n",
            "_________________________________________________________________\n"
          ],
          "name": "stdout"
        }
      ]
    },
    {
      "cell_type": "markdown",
      "metadata": {
        "id": "k2RaPWiP5sXz",
        "colab_type": "text"
      },
      "source": [
        "## Question 7"
      ]
    },
    {
      "cell_type": "markdown",
      "metadata": {
        "id": "4ajGIM6t5sXz",
        "colab_type": "text"
      },
      "source": [
        "### Add classification layers\n",
        "- do this after doing question 6\n",
        "- flatten the data\n",
        "    - add Flatten later\n",
        "    - flatten layers flatten 2D arrays to 1D array before building the fully connected layers\n",
        "- add 2 dense layers\n",
        "    - number of neurons in first layer: 128\n",
        "    - number of neurons in last layer: number of classes\n",
        "    - activation function in first layer: relu\n",
        "    - activation function in last layer: softmax\n",
        "    - we may experiment with any number of neurons for the first Dense layer; however, the final Dense layer must have neurons equal to the number of output classes\n",
        "- you can add a dropout layer in between, if necessary"
      ]
    },
    {
      "cell_type": "code",
      "metadata": {
        "id": "jBxWAN265sX0",
        "colab_type": "code",
        "colab": {}
      },
      "source": [
        "model.add(Flatten())\n",
        "model.add(Dense(128, activation='relu'))\n",
        "model.add(Dropout(0.5))\n",
        "model.add(Dense(num_classes, activation='softmax'))"
      ],
      "execution_count": 0,
      "outputs": []
    },
    {
      "cell_type": "code",
      "metadata": {
        "id": "ipo5s3fnbdiP",
        "colab_type": "code",
        "outputId": "2e3938d3-ec95-4b90-e6b0-b230a144f349",
        "colab": {
          "base_uri": "https://localhost:8080/",
          "height": 420
        }
      },
      "source": [
        "model.summary()"
      ],
      "execution_count": 0,
      "outputs": [
        {
          "output_type": "stream",
          "text": [
            "Model: \"sequential_1\"\n",
            "_________________________________________________________________\n",
            "Layer (type)                 Output Shape              Param #   \n",
            "=================================================================\n",
            "conv2d_1 (Conv2D)            (None, 26, 26, 32)        320       \n",
            "_________________________________________________________________\n",
            "conv2d_2 (Conv2D)            (None, 24, 24, 32)        9248      \n",
            "_________________________________________________________________\n",
            "max_pooling2d_1 (MaxPooling2 (None, 12, 12, 32)        0         \n",
            "_________________________________________________________________\n",
            "dropout_1 (Dropout)          (None, 12, 12, 32)        0         \n",
            "_________________________________________________________________\n",
            "flatten_1 (Flatten)          (None, 4608)              0         \n",
            "_________________________________________________________________\n",
            "dense_1 (Dense)              (None, 128)               589952    \n",
            "_________________________________________________________________\n",
            "dropout_2 (Dropout)          (None, 128)               0         \n",
            "_________________________________________________________________\n",
            "dense_2 (Dense)              (None, 5)                 645       \n",
            "=================================================================\n",
            "Total params: 600,165\n",
            "Trainable params: 600,165\n",
            "Non-trainable params: 0\n",
            "_________________________________________________________________\n"
          ],
          "name": "stdout"
        }
      ]
    },
    {
      "cell_type": "markdown",
      "metadata": {
        "id": "Lhtm4d5K5sX1",
        "colab_type": "text"
      },
      "source": [
        "## Question 8"
      ]
    },
    {
      "cell_type": "markdown",
      "metadata": {
        "id": "SmXg8EaF5sX2",
        "colab_type": "text"
      },
      "source": [
        "### Compile and fit the model\n",
        "- compile your model\n",
        "    - loss: \"categorical_crossentropy\"\n",
        "    - metrics: \"accuracy\"\n",
        "    - optimizer: \"sgd\"\n",
        "- fit your model\n",
        "    - give train data - features and labels\n",
        "    - batch size: 128\n",
        "    - epochs: 10\n",
        "    - give validation data - features and labels"
      ]
    },
    {
      "cell_type": "code",
      "metadata": {
        "id": "cgclxC8s5sX4",
        "colab_type": "code",
        "outputId": "251a3de5-2cae-4db6-d4a8-d5324fe44a66",
        "colab": {
          "base_uri": "https://localhost:8080/",
          "height": 104
        }
      },
      "source": [
        "model.compile(loss='categorical_crossentropy',\n",
        "              optimizer='sgd',\n",
        "              metrics=['accuracy'])"
      ],
      "execution_count": 0,
      "outputs": [
        {
          "output_type": "stream",
          "text": [
            "WARNING:tensorflow:From /usr/local/lib/python3.6/dist-packages/keras/optimizers.py:793: The name tf.train.Optimizer is deprecated. Please use tf.compat.v1.train.Optimizer instead.\n",
            "\n",
            "WARNING:tensorflow:From /usr/local/lib/python3.6/dist-packages/keras/backend/tensorflow_backend.py:3576: The name tf.log is deprecated. Please use tf.math.log instead.\n",
            "\n"
          ],
          "name": "stdout"
        }
      ]
    },
    {
      "cell_type": "code",
      "metadata": {
        "id": "niJoyJUNbvwb",
        "colab_type": "code",
        "outputId": "9177d450-14cd-451c-81d4-d8ece1c1765d",
        "colab": {
          "base_uri": "https://localhost:8080/",
          "height": 457
        }
      },
      "source": [
        "model.fit(xtrain4, ytrain4, \n",
        "          batch_size=128, nb_epoch=10, verbose=1, validation_data=(xtest4, ytest4))"
      ],
      "execution_count": 0,
      "outputs": [
        {
          "output_type": "stream",
          "text": [
            "WARNING:tensorflow:From /usr/local/lib/python3.6/dist-packages/tensorflow/python/ops/math_grad.py:1250: add_dispatch_support.<locals>.wrapper (from tensorflow.python.ops.array_ops) is deprecated and will be removed in a future version.\n",
            "Instructions for updating:\n",
            "Use tf.where in 2.0, which has the same broadcast rule as np.where\n",
            "Train on 30596 samples, validate on 5139 samples\n",
            "Epoch 1/10\n",
            "30596/30596 [==============================] - 10s 313us/step - loss: 0.6509 - acc: 0.8059 - val_loss: 0.1265 - val_acc: 0.9648\n",
            "Epoch 2/10\n",
            "30596/30596 [==============================] - 3s 98us/step - loss: 0.1980 - acc: 0.9390 - val_loss: 0.0858 - val_acc: 0.9755\n",
            "Epoch 3/10\n",
            "30596/30596 [==============================] - 3s 97us/step - loss: 0.1590 - acc: 0.9512 - val_loss: 0.0784 - val_acc: 0.9751\n",
            "Epoch 4/10\n",
            "30596/30596 [==============================] - 3s 99us/step - loss: 0.1423 - acc: 0.9579 - val_loss: 0.0773 - val_acc: 0.9774\n",
            "Epoch 5/10\n",
            "30596/30596 [==============================] - 3s 100us/step - loss: 0.1279 - acc: 0.9601 - val_loss: 0.0552 - val_acc: 0.9819\n",
            "Epoch 6/10\n",
            "30596/30596 [==============================] - 3s 97us/step - loss: 0.1173 - acc: 0.9642 - val_loss: 0.0526 - val_acc: 0.9842\n",
            "Epoch 7/10\n",
            "30596/30596 [==============================] - 3s 97us/step - loss: 0.1125 - acc: 0.9657 - val_loss: 0.0482 - val_acc: 0.9858\n",
            "Epoch 8/10\n",
            "30596/30596 [==============================] - 3s 99us/step - loss: 0.1025 - acc: 0.9685 - val_loss: 0.0429 - val_acc: 0.9864\n",
            "Epoch 9/10\n",
            "30596/30596 [==============================] - 3s 98us/step - loss: 0.1016 - acc: 0.9689 - val_loss: 0.0473 - val_acc: 0.9872\n",
            "Epoch 10/10\n",
            "30596/30596 [==============================] - 3s 98us/step - loss: 0.1002 - acc: 0.9691 - val_loss: 0.0390 - val_acc: 0.9881\n"
          ],
          "name": "stdout"
        },
        {
          "output_type": "execute_result",
          "data": {
            "text/plain": [
              "<keras.callbacks.History at 0x7fb118707438>"
            ]
          },
          "metadata": {
            "tags": []
          },
          "execution_count": 17
        }
      ]
    },
    {
      "cell_type": "markdown",
      "metadata": {
        "id": "oSVZUu3p5sX5",
        "colab_type": "text"
      },
      "source": [
        "## Question 9"
      ]
    },
    {
      "cell_type": "markdown",
      "metadata": {
        "id": "Y5TQ3yLV5sX6",
        "colab_type": "text"
      },
      "source": [
        "### Evaluate model\n",
        "- evaluate your model and get accuracy\n",
        "- use test features and labels"
      ]
    },
    {
      "cell_type": "code",
      "metadata": {
        "id": "bBvuD3ba5sX7",
        "colab_type": "code",
        "outputId": "e32e6175-0048-479a-9ee9-e22aeb59e517",
        "colab": {
          "base_uri": "https://localhost:8080/",
          "height": 1000
        }
      },
      "source": [
        "model.layers[0].get_weights()"
      ],
      "execution_count": 0,
      "outputs": [
        {
          "output_type": "execute_result",
          "data": {
            "text/plain": [
              "[array([[[[ 2.03971453e-02,  1.61896288e-01, -9.88702103e-02,\n",
              "           -9.89539996e-02, -3.27572189e-02, -6.58412799e-02,\n",
              "           -1.11602563e-02,  2.77241059e-02, -1.08025990e-01,\n",
              "            1.46379218e-01,  9.42000002e-02,  1.45185087e-03,\n",
              "           -1.03496812e-01, -6.45919219e-02,  1.18694171e-01,\n",
              "            1.85031161e-01,  6.26028553e-02,  1.99297950e-01,\n",
              "            8.38551074e-02, -6.47733584e-02,  6.51007593e-02,\n",
              "            1.19592100e-01,  5.71388975e-02,  2.14686409e-01,\n",
              "           -1.26271129e-01,  1.54294088e-01,  8.36998969e-03,\n",
              "            1.16751760e-01,  1.29217282e-02,  2.69587692e-02,\n",
              "            2.05575339e-02, -1.25742212e-01]],\n",
              " \n",
              "         [[ 1.26593813e-01,  1.56954080e-02, -8.27214774e-03,\n",
              "            1.14795834e-01,  1.77788846e-02, -7.29810679e-03,\n",
              "            2.19111934e-01,  1.60858892e-02, -1.48061020e-02,\n",
              "           -8.24233633e-04,  1.05620325e-01,  8.03833008e-02,\n",
              "           -1.32182054e-02, -6.14750013e-02, -1.12107597e-01,\n",
              "            1.63686782e-01,  1.47797458e-04,  2.42842659e-01,\n",
              "           -1.34436756e-01,  1.33489043e-01,  1.53137103e-01,\n",
              "            1.83237717e-01,  1.08354554e-01,  1.06475353e-01,\n",
              "            1.14044614e-01, -1.05855271e-01,  4.89917137e-02,\n",
              "            1.05404556e-01,  5.08571155e-02,  1.65428430e-01,\n",
              "            1.70040444e-01, -1.36126094e-02]],\n",
              " \n",
              "         [[-1.21102951e-01,  2.22558722e-01,  1.77979749e-02,\n",
              "           -7.06061954e-03,  6.66446164e-02,  5.30541763e-02,\n",
              "            3.31703909e-02, -6.03450835e-02,  6.66431934e-02,\n",
              "            9.80958994e-03, -5.24445996e-03, -9.23755318e-02,\n",
              "           -1.11213056e-02,  4.08176966e-02,  1.54382825e-01,\n",
              "            1.85149491e-01,  3.60595845e-02,  2.07152694e-01,\n",
              "            9.46724694e-03,  5.09272404e-02, -3.11518908e-02,\n",
              "           -4.82769795e-02,  1.50856832e-02, -5.29285595e-02,\n",
              "            1.34360353e-02, -6.18402008e-03,  2.17703789e-01,\n",
              "           -9.09243524e-02, -6.28075898e-02, -7.02739283e-02,\n",
              "            2.09444106e-01, -1.40930871e-02]]],\n",
              " \n",
              " \n",
              "        [[[-7.97670409e-02,  1.35688484e-01,  8.40789974e-02,\n",
              "           -3.02920176e-04, -1.23432480e-01,  1.48735913e-02,\n",
              "            2.72133291e-01, -1.41658587e-02, -1.11913197e-01,\n",
              "            1.37116909e-01,  1.45576477e-01, -9.64705721e-02,\n",
              "           -1.32200748e-01, -6.96978271e-02, -9.60799381e-02,\n",
              "            2.22601160e-01, -1.00043062e-02,  2.62734205e-01,\n",
              "           -1.20527357e-01,  1.67072326e-01,  1.45623431e-01,\n",
              "            7.58911297e-03,  3.36545184e-02,  1.96969733e-01,\n",
              "           -1.04138352e-01,  1.75889626e-01,  6.08467832e-02,\n",
              "            1.18745357e-01,  9.53960493e-02,  6.52881488e-02,\n",
              "            4.41968776e-02,  2.82666367e-03]],\n",
              " \n",
              "         [[-8.12214166e-02,  2.28770599e-01,  7.49207847e-03,\n",
              "            1.50064021e-01, -8.08085129e-02,  2.84629110e-02,\n",
              "            2.72847682e-01, -5.20650037e-02, -1.04023390e-01,\n",
              "            1.35716498e-01, -8.34781751e-02,  1.13736086e-01,\n",
              "            1.21093936e-01, -1.45184577e-01, -1.22289561e-01,\n",
              "            1.67859599e-01,  1.35900542e-01,  2.59776413e-01,\n",
              "           -2.91980989e-02,  2.21573174e-01, -1.10158138e-01,\n",
              "           -9.26235225e-03,  1.91994786e-01,  6.78635910e-02,\n",
              "            1.87873375e-02,  6.19001724e-02,  8.60106498e-02,\n",
              "            1.59270316e-01,  1.46394134e-01,  1.83338374e-01,\n",
              "            1.43192992e-01, -6.04853928e-02]],\n",
              " \n",
              "         [[ 4.20227423e-02,  1.31875023e-01,  8.81494582e-02,\n",
              "           -5.63166402e-02,  1.05955243e-01, -1.37439808e-02,\n",
              "           -2.01705820e-03, -1.04260392e-01, -6.74987286e-02,\n",
              "           -5.14658727e-03,  5.22498116e-02,  7.27912933e-02,\n",
              "            8.98778066e-02,  1.28140137e-01,  1.26087457e-01,\n",
              "            1.67471558e-01,  7.55550116e-02,  6.21601827e-02,\n",
              "            1.16363592e-01,  2.37751752e-01,  3.05933487e-02,\n",
              "           -8.58107174e-04,  1.98008075e-01,  1.72750235e-01,\n",
              "           -5.03665991e-02,  9.53431055e-03,  2.16830492e-01,\n",
              "           -7.72055686e-02,  1.43326819e-02, -2.24022996e-02,\n",
              "            2.57763952e-01,  2.16932390e-02]]],\n",
              " \n",
              " \n",
              "        [[[ 4.22662264e-03,  1.16014808e-01, -3.19086611e-02,\n",
              "            1.20450824e-01, -1.02818817e-01,  3.89376506e-02,\n",
              "            2.30683491e-01,  6.43105209e-02, -7.61148185e-02,\n",
              "           -6.38836548e-02, -7.53406286e-02, -1.12747937e-01,\n",
              "            8.63767639e-02,  1.30126670e-01, -3.95660698e-02,\n",
              "            2.02376768e-01,  1.60144083e-02,  2.12386712e-01,\n",
              "           -5.75313680e-02,  4.46084030e-02,  5.96141517e-02,\n",
              "            1.61370248e-01, -7.58585334e-02,  1.94498435e-01,\n",
              "            5.49163148e-02,  6.12025447e-02, -7.59034380e-02,\n",
              "            1.98891714e-01,  1.52572855e-01,  1.66176930e-01,\n",
              "            2.12841302e-01,  1.55227520e-02]],\n",
              " \n",
              "         [[-4.21093032e-02,  7.87402913e-02, -6.44262508e-02,\n",
              "            4.09099348e-02, -1.05662838e-01,  1.14035122e-01,\n",
              "            1.05527118e-01,  1.22679017e-01, -3.88958491e-02,\n",
              "           -1.12632699e-02,  1.98272280e-02, -5.31774275e-02,\n",
              "           -9.48326141e-02, -1.04560308e-01, -1.94422957e-02,\n",
              "            3.91514190e-02,  1.17157333e-01,  1.61869213e-01,\n",
              "           -1.38293430e-01,  1.42834425e-01, -7.12126866e-02,\n",
              "           -4.58296165e-02,  5.56984283e-02, -4.30676602e-02,\n",
              "            9.68568251e-02,  8.35057348e-02,  4.18850295e-02,\n",
              "            1.51552692e-01,  8.80346000e-02, -4.62647714e-02,\n",
              "            2.47155920e-01, -5.15664853e-02]],\n",
              " \n",
              "         [[ 1.05886146e-01, -5.66417491e-03, -4.29418981e-02,\n",
              "           -9.66487974e-02, -1.07797123e-01, -1.04120851e-01,\n",
              "           -1.20121893e-02, -4.63985801e-02, -1.12521518e-02,\n",
              "            5.49979601e-03, -1.35359466e-01, -7.59403110e-02,\n",
              "            1.66958615e-01,  4.20364700e-02,  8.52494910e-02,\n",
              "            1.78079829e-01, -1.35944024e-01,  8.38679075e-02,\n",
              "           -1.34578183e-01,  1.33707598e-01,  3.48563977e-02,\n",
              "           -6.57582656e-02, -8.18964913e-02,  3.22539620e-02,\n",
              "           -1.11863516e-01,  1.47657961e-01,  2.47169301e-01,\n",
              "           -6.70045093e-02,  9.41454694e-02,  6.37748167e-02,\n",
              "            1.83274224e-01,  5.88865541e-02]]]], dtype=float32),\n",
              " array([ 6.4623985e-03, -3.5297163e-04, -1.0978794e-02,  1.2752678e-03,\n",
              "        -4.0134029e-03, -3.8597712e-04, -1.3251795e-05,  8.0283266e-03,\n",
              "        -1.3529748e-03, -2.6714653e-03,  1.8840251e-02,  3.5558683e-03,\n",
              "         1.6057670e-02, -3.3414527e-03,  6.4954464e-03, -8.2948891e-04,\n",
              "        -1.8678972e-02, -3.3032002e-03, -8.0317497e-04,  2.7928993e-04,\n",
              "         6.0844864e-03,  7.7855284e-03,  4.2573088e-03, -5.8845180e-04,\n",
              "         2.7686860e-03,  5.6491885e-03,  8.7138629e-05,  7.8157652e-03,\n",
              "        -2.2717458e-04, -3.1136480e-04, -2.0778344e-04,  5.8591797e-04],\n",
              "       dtype=float32)]"
            ]
          },
          "metadata": {
            "tags": []
          },
          "execution_count": 18
        }
      ]
    },
    {
      "cell_type": "code",
      "metadata": {
        "id": "HIdALokRcKOR",
        "colab_type": "code",
        "outputId": "719f0b73-8a1c-435b-dfcb-d412407a611f",
        "colab": {
          "base_uri": "https://localhost:8080/",
          "height": 1000
        }
      },
      "source": [
        "model.layers[1].get_weights()"
      ],
      "execution_count": 0,
      "outputs": [
        {
          "output_type": "execute_result",
          "data": {
            "text/plain": [
              "[array([[[[ 0.05675383,  0.09354048, -0.02702657, ...,  0.01490784,\n",
              "           -0.08291802, -0.08206595],\n",
              "          [ 0.01143751,  0.06853654,  0.05513738, ..., -0.04041136,\n",
              "           -0.05072374, -0.08690322],\n",
              "          [ 0.10182881, -0.05725884,  0.03508065, ..., -0.08095503,\n",
              "            0.07393127, -0.05351124],\n",
              "          ...,\n",
              "          [ 0.02160517, -0.03172428,  0.10098261, ...,  0.01891018,\n",
              "            0.03182354,  0.08776308],\n",
              "          [ 0.00815653, -0.0289122 ,  0.05245741, ...,  0.09973372,\n",
              "            0.04763728, -0.05373343],\n",
              "          [-0.02478459,  0.00241807, -0.09558746, ..., -0.00583697,\n",
              "           -0.06578976,  0.01094047]],\n",
              " \n",
              "         [[-0.08656923,  0.05160447, -0.07406791, ...,  0.01400202,\n",
              "           -0.05601193, -0.06350864],\n",
              "          [ 0.01177188,  0.07312719,  0.02771136, ...,  0.05715036,\n",
              "            0.02231725, -0.01392025],\n",
              "          [-0.01922805, -0.06436729, -0.05682866, ...,  0.04873928,\n",
              "            0.0899702 ,  0.06568548],\n",
              "          ...,\n",
              "          [ 0.08656829,  0.06176715, -0.02221458, ..., -0.05398388,\n",
              "            0.00393609,  0.0498592 ],\n",
              "          [ 0.05986906, -0.07684144, -0.04452085, ..., -0.08408963,\n",
              "           -0.08747939, -0.05869659],\n",
              "          [ 0.03556814,  0.0796678 ,  0.07623666, ..., -0.06666033,\n",
              "           -0.02001087,  0.07252765]],\n",
              " \n",
              "         [[-0.03328023,  0.04707227, -0.06316424, ...,  0.02665627,\n",
              "            0.08615904,  0.07333957],\n",
              "          [-0.09022838, -0.04951601, -0.04593496, ...,  0.01974951,\n",
              "           -0.01257069, -0.05576808],\n",
              "          [-0.02921866,  0.05987391, -0.01730897, ...,  0.05569179,\n",
              "           -0.0433203 ,  0.07615748],\n",
              "          ...,\n",
              "          [-0.07510301, -0.0468041 , -0.00246472, ...,  0.06607661,\n",
              "            0.00647484, -0.01737483],\n",
              "          [-0.07754643,  0.04209002,  0.04588496, ...,  0.00684581,\n",
              "           -0.06754684, -0.04305463],\n",
              "          [-0.04182624,  0.06899934,  0.08406495, ...,  0.01109643,\n",
              "            0.0363463 ,  0.07864226]]],\n",
              " \n",
              " \n",
              "        [[[-0.03945309,  0.10157862, -0.00983617, ..., -0.07852155,\n",
              "           -0.08074898, -0.01474504],\n",
              "          [ 0.04882305, -0.06703776, -0.0864104 , ..., -0.00461898,\n",
              "           -0.06318388,  0.05871028],\n",
              "          [ 0.0060499 ,  0.00972686,  0.02469693, ...,  0.0285173 ,\n",
              "           -0.0536303 , -0.01990253],\n",
              "          ...,\n",
              "          [-0.03562185,  0.05008831,  0.09690285, ..., -0.01199937,\n",
              "            0.06149314,  0.03708419],\n",
              "          [ 0.04670408,  0.10673289, -0.08736179, ..., -0.02978808,\n",
              "           -0.09952327,  0.0018086 ],\n",
              "          [-0.03700444, -0.00139222, -0.0677503 , ..., -0.07259485,\n",
              "           -0.01027   , -0.09649439]],\n",
              " \n",
              "         [[ 0.06548607,  0.02580087, -0.04156297, ..., -0.01724202,\n",
              "            0.03700689, -0.08716211],\n",
              "          [-0.03750413, -0.06551729, -0.00535105, ..., -0.02512797,\n",
              "            0.00605228,  0.09015006],\n",
              "          [ 0.02904312, -0.07669105, -0.00360522, ..., -0.04309659,\n",
              "           -0.10070566, -0.06465571],\n",
              "          ...,\n",
              "          [ 0.07825635,  0.02719752, -0.02624603, ..., -0.07406816,\n",
              "           -0.0102351 ,  0.05257595],\n",
              "          [ 0.06340501,  0.12019397,  0.05526606, ...,  0.09899186,\n",
              "            0.00505833,  0.0338013 ],\n",
              "          [-0.05840597, -0.08761415,  0.0986085 , ...,  0.05342893,\n",
              "           -0.03814189,  0.07828502]],\n",
              " \n",
              "         [[ 0.02650018,  0.09023475,  0.08071774, ...,  0.01671461,\n",
              "            0.03417567, -0.03754759],\n",
              "          [ 0.08240511, -0.00275478, -0.08669078, ..., -0.01014159,\n",
              "           -0.00627426, -0.08101677],\n",
              "          [ 0.0641929 , -0.06424012, -0.02611587, ..., -0.02526152,\n",
              "            0.01038986,  0.06130739],\n",
              "          ...,\n",
              "          [ 0.09858873, -0.02329292,  0.06426018, ..., -0.04415464,\n",
              "           -0.03603834,  0.00738152],\n",
              "          [-0.00215601, -0.02542548, -0.06033183, ...,  0.05569845,\n",
              "            0.05188187,  0.04385924],\n",
              "          [ 0.00171049, -0.07322937, -0.04984705, ..., -0.05817925,\n",
              "            0.010744  , -0.06252488]]],\n",
              " \n",
              " \n",
              "        [[[ 0.01226223,  0.06813978,  0.00033547, ...,  0.02389453,\n",
              "            0.08382279,  0.06739683],\n",
              "          [-0.05777264, -0.03818696, -0.06561347, ..., -0.00436153,\n",
              "           -0.05274994, -0.06018896],\n",
              "          [ 0.01363126, -0.03192689,  0.00212302, ..., -0.10089011,\n",
              "           -0.01169747,  0.01229834],\n",
              "          ...,\n",
              "          [-0.03813509, -0.03698779,  0.02115217, ..., -0.07685478,\n",
              "            0.03623526, -0.04801022],\n",
              "          [ 0.03279942,  0.12302108, -0.01521474, ...,  0.03193521,\n",
              "            0.0988498 , -0.08339951],\n",
              "          [ 0.06437539, -0.04785416,  0.08592279, ..., -0.07460966,\n",
              "           -0.06461569, -0.0513823 ]],\n",
              " \n",
              "         [[ 0.06770438, -0.0318251 ,  0.01283766, ...,  0.07518907,\n",
              "            0.1007757 , -0.0263924 ],\n",
              "          [ 0.04313616,  0.02367773,  0.01492375, ..., -0.0281825 ,\n",
              "            0.04421708,  0.03821075],\n",
              "          [-0.08073258, -0.0538455 ,  0.05426237, ..., -0.08420887,\n",
              "            0.05108568,  0.09811943],\n",
              "          ...,\n",
              "          [ 0.00176901, -0.03201623,  0.01672254, ..., -0.08039133,\n",
              "           -0.01526115,  0.00222789],\n",
              "          [ 0.01576628, -0.04140253,  0.0465418 , ..., -0.00573701,\n",
              "           -0.00494885, -0.07421408],\n",
              "          [ 0.08981757, -0.064873  , -0.06676206, ..., -0.02334424,\n",
              "            0.00827854, -0.00407539]],\n",
              " \n",
              "         [[ 0.05928146, -0.04070146, -0.03703932, ..., -0.09922546,\n",
              "            0.02820815,  0.08089656],\n",
              "          [ 0.04124788, -0.02413005,  0.07888174, ...,  0.00072336,\n",
              "           -0.04934147,  0.04530763],\n",
              "          [ 0.06130484, -0.06783039,  0.02571178, ..., -0.05904739,\n",
              "           -0.04914299,  0.07169062],\n",
              "          ...,\n",
              "          [ 0.05707273,  0.01988094, -0.05034115, ...,  0.02655839,\n",
              "            0.05191964,  0.09408125],\n",
              "          [ 0.06457769,  0.1318159 , -0.0861948 , ..., -0.04066697,\n",
              "           -0.09442385,  0.04170536],\n",
              "          [-0.0351406 , -0.01983279,  0.0401991 , ..., -0.03541523,\n",
              "           -0.04873553,  0.07780007]]]], dtype=float32),\n",
              " array([-0.00149992, -0.00753338,  0.00332224, -0.00330398, -0.00759291,\n",
              "        -0.00059551, -0.01167455,  0.06700133, -0.00173935, -0.00439019,\n",
              "         0.00898276, -0.02260694, -0.01064211,  0.00264434,  0.00036544,\n",
              "        -0.00119652, -0.01517713, -0.0005081 ,  0.01696623,  0.01242946,\n",
              "         0.00423233, -0.01990557, -0.00414483, -0.00419561,  0.00849705,\n",
              "        -0.00044384, -0.02364804,  0.00746313, -0.01463688, -0.00824984,\n",
              "         0.02152011,  0.01159344], dtype=float32)]"
            ]
          },
          "metadata": {
            "tags": []
          },
          "execution_count": 19
        }
      ]
    },
    {
      "cell_type": "code",
      "metadata": {
        "id": "1k8txtU_c73E",
        "colab_type": "code",
        "outputId": "72078c69-cd8a-4256-fb20-b4b8f9a3f6fa",
        "colab": {
          "base_uri": "https://localhost:8080/",
          "height": 790
        }
      },
      "source": [
        "model.layers[5].get_weights()"
      ],
      "execution_count": 0,
      "outputs": [
        {
          "output_type": "execute_result",
          "data": {
            "text/plain": [
              "[array([[-0.02720791,  0.0071164 , -0.02115905, ...,  0.01424788,\n",
              "          0.01868811, -0.02185973],\n",
              "        [ 0.03300808,  0.02597452,  0.02442153, ...,  0.02567871,\n",
              "         -0.02092588,  0.00189988],\n",
              "        [-0.03207742,  0.00831208, -0.00321467, ..., -0.0077476 ,\n",
              "         -0.02410603,  0.03271184],\n",
              "        ...,\n",
              "        [ 0.0051284 , -0.03040964, -0.00822959, ...,  0.00293138,\n",
              "          0.02105002, -0.03456493],\n",
              "        [ 0.00090679, -0.02177661,  0.01217753, ..., -0.02153394,\n",
              "         -0.02820375,  0.03266574],\n",
              "        [ 0.03405921,  0.01221666, -0.01114358, ..., -0.01160568,\n",
              "         -0.00929405, -0.02292956]], dtype=float32),\n",
              " array([-8.45497753e-03, -2.78571947e-03,  6.94942847e-03,  4.44114069e-03,\n",
              "         1.39776915e-02, -3.75959300e-03, -4.96146642e-03, -2.12692842e-03,\n",
              "         8.47874396e-03,  5.58275380e-04,  5.96987596e-03,  1.53319619e-03,\n",
              "         1.72498841e-02, -8.82434717e-04, -4.22587059e-03, -2.15758802e-03,\n",
              "         4.21344535e-03, -3.02220555e-03,  9.20094270e-03,  7.19304103e-03,\n",
              "         1.07564284e-02,  1.47541089e-03,  1.75063044e-03, -8.78087245e-04,\n",
              "         5.28735667e-03, -5.44828689e-03, -3.54294828e-03,  3.79535928e-03,\n",
              "         7.45242182e-03,  2.73008039e-03,  3.25478218e-03,  9.08149220e-03,\n",
              "        -8.40247027e-04,  8.25190858e-04,  4.60208999e-03,  1.51473517e-02,\n",
              "        -9.24959080e-04,  5.57311811e-03, -1.87966740e-03, -3.20361531e-03,\n",
              "        -2.29334203e-03,  7.49775115e-03, -1.84530194e-03, -1.25444843e-03,\n",
              "         3.63547658e-03,  1.68101001e-03, -6.93321042e-03,  5.12852520e-03,\n",
              "         3.04351188e-03,  1.58938244e-02, -4.58342023e-03,  9.27402545e-03,\n",
              "        -4.07802919e-03,  4.62489901e-03, -1.72626076e-03,  6.43678766e-04,\n",
              "        -4.45896760e-03,  1.91640819e-03,  6.73726387e-03,  5.71733154e-03,\n",
              "         2.61831027e-03, -3.90100665e-03,  1.50652707e-03,  4.31967383e-05,\n",
              "        -2.45206826e-03,  1.11454201e-03, -2.21154164e-03,  1.72019389e-03,\n",
              "         3.10306787e-03,  4.43798257e-03,  1.38279898e-02,  8.52579775e-04,\n",
              "         7.01980572e-03, -3.59932031e-03,  2.03093412e-04,  1.23477438e-02,\n",
              "         7.82692048e-04, -1.24293764e-03,  1.89595530e-03,  1.54666211e-02,\n",
              "         1.77590264e-04,  6.59355568e-03,  2.43460410e-03,  3.69285746e-03,\n",
              "        -5.74303465e-03, -6.30764896e-03,  2.76359380e-03,  1.01946481e-02,\n",
              "        -3.56148789e-03,  4.97059664e-04, -1.41906494e-03,  3.37084173e-03,\n",
              "         2.66216666e-04,  1.14359346e-03, -1.39463181e-03,  4.81467927e-03,\n",
              "         7.06842402e-03,  7.66017241e-04,  1.50002528e-03,  9.57614556e-03,\n",
              "        -5.09578642e-03, -2.93641677e-03,  3.92465247e-03, -4.03362006e-04,\n",
              "         6.15715655e-03,  2.16035894e-03,  1.59450453e-02,  1.62093993e-03,\n",
              "        -3.71328159e-03,  1.03647178e-02, -2.08093654e-04, -1.42897450e-04,\n",
              "        -8.03785957e-03, -1.83836359e-03,  2.51412555e-03,  8.45372491e-03,\n",
              "         1.86329198e-05, -5.47084911e-03,  9.77892242e-03, -2.09965254e-03,\n",
              "        -1.72706251e-03,  1.74165412e-03,  4.38149041e-03,  4.67974460e-03,\n",
              "         2.55684229e-03, -1.77368103e-03, -9.17983707e-04,  1.30451117e-02],\n",
              "       dtype=float32)]"
            ]
          },
          "metadata": {
            "tags": []
          },
          "execution_count": 20
        }
      ]
    },
    {
      "cell_type": "code",
      "metadata": {
        "id": "-tqvafGidFjS",
        "colab_type": "code",
        "outputId": "04877369-301c-45fc-dcb7-9a57da54a9a3",
        "colab": {
          "base_uri": "https://localhost:8080/",
          "height": 1000
        }
      },
      "source": [
        "model.layers[0].get_weights()"
      ],
      "execution_count": 0,
      "outputs": [
        {
          "output_type": "execute_result",
          "data": {
            "text/plain": [
              "[array([[[[ 2.03971453e-02,  1.61896288e-01, -9.88702103e-02,\n",
              "           -9.89539996e-02, -3.27572189e-02, -6.58412799e-02,\n",
              "           -1.11602563e-02,  2.77241059e-02, -1.08025990e-01,\n",
              "            1.46379218e-01,  9.42000002e-02,  1.45185087e-03,\n",
              "           -1.03496812e-01, -6.45919219e-02,  1.18694171e-01,\n",
              "            1.85031161e-01,  6.26028553e-02,  1.99297950e-01,\n",
              "            8.38551074e-02, -6.47733584e-02,  6.51007593e-02,\n",
              "            1.19592100e-01,  5.71388975e-02,  2.14686409e-01,\n",
              "           -1.26271129e-01,  1.54294088e-01,  8.36998969e-03,\n",
              "            1.16751760e-01,  1.29217282e-02,  2.69587692e-02,\n",
              "            2.05575339e-02, -1.25742212e-01]],\n",
              " \n",
              "         [[ 1.26593813e-01,  1.56954080e-02, -8.27214774e-03,\n",
              "            1.14795834e-01,  1.77788846e-02, -7.29810679e-03,\n",
              "            2.19111934e-01,  1.60858892e-02, -1.48061020e-02,\n",
              "           -8.24233633e-04,  1.05620325e-01,  8.03833008e-02,\n",
              "           -1.32182054e-02, -6.14750013e-02, -1.12107597e-01,\n",
              "            1.63686782e-01,  1.47797458e-04,  2.42842659e-01,\n",
              "           -1.34436756e-01,  1.33489043e-01,  1.53137103e-01,\n",
              "            1.83237717e-01,  1.08354554e-01,  1.06475353e-01,\n",
              "            1.14044614e-01, -1.05855271e-01,  4.89917137e-02,\n",
              "            1.05404556e-01,  5.08571155e-02,  1.65428430e-01,\n",
              "            1.70040444e-01, -1.36126094e-02]],\n",
              " \n",
              "         [[-1.21102951e-01,  2.22558722e-01,  1.77979749e-02,\n",
              "           -7.06061954e-03,  6.66446164e-02,  5.30541763e-02,\n",
              "            3.31703909e-02, -6.03450835e-02,  6.66431934e-02,\n",
              "            9.80958994e-03, -5.24445996e-03, -9.23755318e-02,\n",
              "           -1.11213056e-02,  4.08176966e-02,  1.54382825e-01,\n",
              "            1.85149491e-01,  3.60595845e-02,  2.07152694e-01,\n",
              "            9.46724694e-03,  5.09272404e-02, -3.11518908e-02,\n",
              "           -4.82769795e-02,  1.50856832e-02, -5.29285595e-02,\n",
              "            1.34360353e-02, -6.18402008e-03,  2.17703789e-01,\n",
              "           -9.09243524e-02, -6.28075898e-02, -7.02739283e-02,\n",
              "            2.09444106e-01, -1.40930871e-02]]],\n",
              " \n",
              " \n",
              "        [[[-7.97670409e-02,  1.35688484e-01,  8.40789974e-02,\n",
              "           -3.02920176e-04, -1.23432480e-01,  1.48735913e-02,\n",
              "            2.72133291e-01, -1.41658587e-02, -1.11913197e-01,\n",
              "            1.37116909e-01,  1.45576477e-01, -9.64705721e-02,\n",
              "           -1.32200748e-01, -6.96978271e-02, -9.60799381e-02,\n",
              "            2.22601160e-01, -1.00043062e-02,  2.62734205e-01,\n",
              "           -1.20527357e-01,  1.67072326e-01,  1.45623431e-01,\n",
              "            7.58911297e-03,  3.36545184e-02,  1.96969733e-01,\n",
              "           -1.04138352e-01,  1.75889626e-01,  6.08467832e-02,\n",
              "            1.18745357e-01,  9.53960493e-02,  6.52881488e-02,\n",
              "            4.41968776e-02,  2.82666367e-03]],\n",
              " \n",
              "         [[-8.12214166e-02,  2.28770599e-01,  7.49207847e-03,\n",
              "            1.50064021e-01, -8.08085129e-02,  2.84629110e-02,\n",
              "            2.72847682e-01, -5.20650037e-02, -1.04023390e-01,\n",
              "            1.35716498e-01, -8.34781751e-02,  1.13736086e-01,\n",
              "            1.21093936e-01, -1.45184577e-01, -1.22289561e-01,\n",
              "            1.67859599e-01,  1.35900542e-01,  2.59776413e-01,\n",
              "           -2.91980989e-02,  2.21573174e-01, -1.10158138e-01,\n",
              "           -9.26235225e-03,  1.91994786e-01,  6.78635910e-02,\n",
              "            1.87873375e-02,  6.19001724e-02,  8.60106498e-02,\n",
              "            1.59270316e-01,  1.46394134e-01,  1.83338374e-01,\n",
              "            1.43192992e-01, -6.04853928e-02]],\n",
              " \n",
              "         [[ 4.20227423e-02,  1.31875023e-01,  8.81494582e-02,\n",
              "           -5.63166402e-02,  1.05955243e-01, -1.37439808e-02,\n",
              "           -2.01705820e-03, -1.04260392e-01, -6.74987286e-02,\n",
              "           -5.14658727e-03,  5.22498116e-02,  7.27912933e-02,\n",
              "            8.98778066e-02,  1.28140137e-01,  1.26087457e-01,\n",
              "            1.67471558e-01,  7.55550116e-02,  6.21601827e-02,\n",
              "            1.16363592e-01,  2.37751752e-01,  3.05933487e-02,\n",
              "           -8.58107174e-04,  1.98008075e-01,  1.72750235e-01,\n",
              "           -5.03665991e-02,  9.53431055e-03,  2.16830492e-01,\n",
              "           -7.72055686e-02,  1.43326819e-02, -2.24022996e-02,\n",
              "            2.57763952e-01,  2.16932390e-02]]],\n",
              " \n",
              " \n",
              "        [[[ 4.22662264e-03,  1.16014808e-01, -3.19086611e-02,\n",
              "            1.20450824e-01, -1.02818817e-01,  3.89376506e-02,\n",
              "            2.30683491e-01,  6.43105209e-02, -7.61148185e-02,\n",
              "           -6.38836548e-02, -7.53406286e-02, -1.12747937e-01,\n",
              "            8.63767639e-02,  1.30126670e-01, -3.95660698e-02,\n",
              "            2.02376768e-01,  1.60144083e-02,  2.12386712e-01,\n",
              "           -5.75313680e-02,  4.46084030e-02,  5.96141517e-02,\n",
              "            1.61370248e-01, -7.58585334e-02,  1.94498435e-01,\n",
              "            5.49163148e-02,  6.12025447e-02, -7.59034380e-02,\n",
              "            1.98891714e-01,  1.52572855e-01,  1.66176930e-01,\n",
              "            2.12841302e-01,  1.55227520e-02]],\n",
              " \n",
              "         [[-4.21093032e-02,  7.87402913e-02, -6.44262508e-02,\n",
              "            4.09099348e-02, -1.05662838e-01,  1.14035122e-01,\n",
              "            1.05527118e-01,  1.22679017e-01, -3.88958491e-02,\n",
              "           -1.12632699e-02,  1.98272280e-02, -5.31774275e-02,\n",
              "           -9.48326141e-02, -1.04560308e-01, -1.94422957e-02,\n",
              "            3.91514190e-02,  1.17157333e-01,  1.61869213e-01,\n",
              "           -1.38293430e-01,  1.42834425e-01, -7.12126866e-02,\n",
              "           -4.58296165e-02,  5.56984283e-02, -4.30676602e-02,\n",
              "            9.68568251e-02,  8.35057348e-02,  4.18850295e-02,\n",
              "            1.51552692e-01,  8.80346000e-02, -4.62647714e-02,\n",
              "            2.47155920e-01, -5.15664853e-02]],\n",
              " \n",
              "         [[ 1.05886146e-01, -5.66417491e-03, -4.29418981e-02,\n",
              "           -9.66487974e-02, -1.07797123e-01, -1.04120851e-01,\n",
              "           -1.20121893e-02, -4.63985801e-02, -1.12521518e-02,\n",
              "            5.49979601e-03, -1.35359466e-01, -7.59403110e-02,\n",
              "            1.66958615e-01,  4.20364700e-02,  8.52494910e-02,\n",
              "            1.78079829e-01, -1.35944024e-01,  8.38679075e-02,\n",
              "           -1.34578183e-01,  1.33707598e-01,  3.48563977e-02,\n",
              "           -6.57582656e-02, -8.18964913e-02,  3.22539620e-02,\n",
              "           -1.11863516e-01,  1.47657961e-01,  2.47169301e-01,\n",
              "           -6.70045093e-02,  9.41454694e-02,  6.37748167e-02,\n",
              "            1.83274224e-01,  5.88865541e-02]]]], dtype=float32),\n",
              " array([ 6.4623985e-03, -3.5297163e-04, -1.0978794e-02,  1.2752678e-03,\n",
              "        -4.0134029e-03, -3.8597712e-04, -1.3251795e-05,  8.0283266e-03,\n",
              "        -1.3529748e-03, -2.6714653e-03,  1.8840251e-02,  3.5558683e-03,\n",
              "         1.6057670e-02, -3.3414527e-03,  6.4954464e-03, -8.2948891e-04,\n",
              "        -1.8678972e-02, -3.3032002e-03, -8.0317497e-04,  2.7928993e-04,\n",
              "         6.0844864e-03,  7.7855284e-03,  4.2573088e-03, -5.8845180e-04,\n",
              "         2.7686860e-03,  5.6491885e-03,  8.7138629e-05,  7.8157652e-03,\n",
              "        -2.2717458e-04, -3.1136480e-04, -2.0778344e-04,  5.8591797e-04],\n",
              "       dtype=float32)]"
            ]
          },
          "metadata": {
            "tags": []
          },
          "execution_count": 21
        }
      ]
    },
    {
      "cell_type": "markdown",
      "metadata": {
        "id": "8aUzOh9m5sX-",
        "colab_type": "text"
      },
      "source": [
        "## Question 10"
      ]
    },
    {
      "cell_type": "markdown",
      "metadata": {
        "id": "srd-YYNH5sX-",
        "colab_type": "text"
      },
      "source": [
        "## Transfer learning\n",
        "Now we will apply this model on second dataset (5-9 digits)\n",
        "\n",
        "- fix the first convolution layers so that the weights in the convolution layers dont get updated in the process of training\n",
        "- get the second dataset\n",
        "- train the last 2 dense layers\n",
        "- predict the accuracy and loss"
      ]
    },
    {
      "cell_type": "markdown",
      "metadata": {
        "id": "KvhdH7D55sYA",
        "colab_type": "text"
      },
      "source": [
        "### Make only dense layers trainable\n",
        "- set trainalble = False for all layers other than Dense layers"
      ]
    },
    {
      "cell_type": "code",
      "metadata": {
        "colab_type": "code",
        "id": "brN7VZHFaEJ4",
        "outputId": "1160f534-9364-44b7-9259-0ea9a0294832",
        "colab": {
          "base_uri": "https://localhost:8080/",
          "height": 420
        }
      },
      "source": [
        "model.summary()"
      ],
      "execution_count": 0,
      "outputs": [
        {
          "output_type": "stream",
          "text": [
            "Model: \"sequential_1\"\n",
            "_________________________________________________________________\n",
            "Layer (type)                 Output Shape              Param #   \n",
            "=================================================================\n",
            "conv2d_1 (Conv2D)            (None, 26, 26, 32)        320       \n",
            "_________________________________________________________________\n",
            "conv2d_2 (Conv2D)            (None, 24, 24, 32)        9248      \n",
            "_________________________________________________________________\n",
            "max_pooling2d_1 (MaxPooling2 (None, 12, 12, 32)        0         \n",
            "_________________________________________________________________\n",
            "dropout_1 (Dropout)          (None, 12, 12, 32)        0         \n",
            "_________________________________________________________________\n",
            "flatten_1 (Flatten)          (None, 4608)              0         \n",
            "_________________________________________________________________\n",
            "dense_1 (Dense)              (None, 128)               589952    \n",
            "_________________________________________________________________\n",
            "dropout_2 (Dropout)          (None, 128)               0         \n",
            "_________________________________________________________________\n",
            "dense_2 (Dense)              (None, 5)                 645       \n",
            "=================================================================\n",
            "Total params: 600,165\n",
            "Trainable params: 600,165\n",
            "Non-trainable params: 0\n",
            "_________________________________________________________________\n"
          ],
          "name": "stdout"
        }
      ]
    },
    {
      "cell_type": "markdown",
      "metadata": {
        "id": "FYR9VGzO5sYE",
        "colab_type": "text"
      },
      "source": [
        "### Modify data\n",
        "- in your second data, class labels will start from 5 to 9 but for keras.utils.to_categorical the labels should start from 0\n",
        "- so you need to subtract 5 from train and test labels"
      ]
    },
    {
      "cell_type": "code",
      "metadata": {
        "id": "lC5W75L35sYF",
        "colab_type": "code",
        "colab": {}
      },
      "source": [
        "ytrain9 = ytrain9 - 5\n",
        "ytest9 = ytest9 - 5 "
      ],
      "execution_count": 0,
      "outputs": []
    },
    {
      "cell_type": "markdown",
      "metadata": {
        "id": "YGY3OTBt5sYG",
        "colab_type": "text"
      },
      "source": [
        "### Reshape data\n",
        "- reshape second dataset\n",
        "- To be able to use the dataset in Keras, we need 4-dims numpy arrays. \n",
        "- reshape features to pass it to a Conv2D layer\n",
        "- channel = 1\n",
        "- reshape features of first dataset only\n",
        "- do not reshape labels"
      ]
    },
    {
      "cell_type": "code",
      "metadata": {
        "id": "0V7RUlRD5sYH",
        "colab_type": "code",
        "colab": {}
      },
      "source": [
        "# Reshaping the array to 4-dims so that it can work with the Keras API\n",
        "xtrain9 = X_train_5_9.reshape(xtrain9.shape[0], 28, 28, 1)\n",
        "xtest9 = X_test_5_9.reshape(xtest9.shape[0], 28, 28, 1)"
      ],
      "execution_count": 0,
      "outputs": []
    },
    {
      "cell_type": "markdown",
      "metadata": {
        "id": "c7omqMQH5sYJ",
        "colab_type": "text"
      },
      "source": [
        "### Normalize data\n",
        "- normalize second data\n",
        "- we must normalize our data as it is always required in neural network models\n",
        "- we can achieve this by dividing the RGB codes to 255 (which is the maximum RGB code minus the minimum RGB code)\n",
        "- normalize X_train and X_test\n",
        "- make sure that the values are float so that we can get decimal points after division"
      ]
    },
    {
      "cell_type": "code",
      "metadata": {
        "id": "PEFYNHRp5sYJ",
        "colab_type": "code",
        "colab": {}
      },
      "source": [
        "# Making sure that the values are float so that we can get decimal points after division\n",
        "xtrain9 = xtrain9.astype('float32')\n",
        "xtest9 = xtest9.astype('float32')\n",
        "# Normalizing the RGB codes by dividing it to the max RGB value.\n",
        "xtrain9 /= 255\n",
        "xtest9 /= 255"
      ],
      "execution_count": 0,
      "outputs": []
    },
    {
      "cell_type": "markdown",
      "metadata": {
        "id": "0OfdlF655sYM",
        "colab_type": "text"
      },
      "source": [
        "### Print shape of data and number of images\n",
        "- print shape of X_train\n",
        "- print number of images in X_train\n",
        "- print number of images in X_test"
      ]
    },
    {
      "cell_type": "code",
      "metadata": {
        "id": "bZEkCQ-P5sYO",
        "colab_type": "code",
        "outputId": "d0333538-5038-4020-d8fb-5026dd6a2f34",
        "colab": {
          "base_uri": "https://localhost:8080/",
          "height": 151
        }
      },
      "source": [
        "print('xtrain4:', xtrain4.shape)\n",
        "print('ytrain4:', ytrain4.shape)\n",
        "print('xtest4:', xtest4.shape)\n",
        "print('ytest4:', ytest4.shape)\n",
        "print('xtrain9:', xtrain9.shape)\n",
        "print('ytrain9:', ytrain9.shape)\n",
        "print('xtest9:', xtest9.shape)\n",
        "print('ytest9:', ytest9.shape)"
      ],
      "execution_count": 0,
      "outputs": [
        {
          "output_type": "stream",
          "text": [
            "xtrain4: (30596, 28, 28, 1)\n",
            "ytrain4: (30596, 5)\n",
            "xtest4: (5139, 28, 28, 1)\n",
            "ytest4: (5139, 5)\n",
            "xtrain9: (29404, 28, 28, 1)\n",
            "ytrain9: (29404,)\n",
            "xtest9: (4861, 28, 28, 1)\n",
            "ytest9: (4861,)\n"
          ],
          "name": "stdout"
        }
      ]
    },
    {
      "cell_type": "markdown",
      "metadata": {
        "id": "c_3-0Qwo5sYQ",
        "colab_type": "text"
      },
      "source": [
        "### One-hot encode the class vector\n",
        "- convert class vectors (integers) to binary class matrix\n",
        "- convert y_train and y_test\n",
        "- number of classes: 5\n",
        "- we are doing this to use categorical_crossentropy as loss\n",
        "\n",
        "Hint: you can use keras.utils.to_categorical"
      ]
    },
    {
      "cell_type": "code",
      "metadata": {
        "id": "k46Me5Re5sYR",
        "colab_type": "code",
        "colab": {}
      },
      "source": [
        "ytrain9 = keras.utils.to_categorical(ytrain9, num_classes)\n",
        "ytest9 = keras.utils.to_categorical(ytest9, num_classes)"
      ],
      "execution_count": 0,
      "outputs": []
    },
    {
      "cell_type": "markdown",
      "metadata": {
        "id": "D9xEoW515sYS",
        "colab_type": "text"
      },
      "source": [
        "### Fit the model\n",
        "- give train data - features and labels\n",
        "- batch size: 128\n",
        "- epochs: 10\n",
        "- give validation data - features and labels"
      ]
    },
    {
      "cell_type": "code",
      "metadata": {
        "id": "B6f-XAc-5sYT",
        "colab_type": "code",
        "colab": {}
      },
      "source": [
        "#Set pre-trained model layers to not trainable\n",
        "for layer in model.layers[:5:]:\n",
        "    layer.trainable = False"
      ],
      "execution_count": 0,
      "outputs": []
    },
    {
      "cell_type": "code",
      "metadata": {
        "id": "GW_u0mi9gWy_",
        "colab_type": "code",
        "outputId": "cfc5e269-7fac-4567-f1d7-fe6d2d289957",
        "colab": {
          "base_uri": "https://localhost:8080/",
          "height": 406
        }
      },
      "source": [
        "model.fit(xtrain9, ytrain9, \n",
        "          batch_size=128, nb_epoch=10, verbose=1, validation_data=(xtest9, ytest9))"
      ],
      "execution_count": 0,
      "outputs": [
        {
          "output_type": "stream",
          "text": [
            "Train on 29404 samples, validate on 4861 samples\n",
            "Epoch 1/10\n",
            "29404/29404 [==============================] - 3s 102us/step - loss: 0.5799 - acc: 0.8093 - val_loss: 0.2221 - val_acc: 0.9284\n",
            "Epoch 2/10\n",
            "29404/29404 [==============================] - 3s 97us/step - loss: 0.3053 - acc: 0.8988 - val_loss: 0.1613 - val_acc: 0.9488\n",
            "Epoch 3/10\n",
            "29404/29404 [==============================] - 3s 98us/step - loss: 0.2514 - acc: 0.9204 - val_loss: 0.1427 - val_acc: 0.9562\n",
            "Epoch 4/10\n",
            "29404/29404 [==============================] - 3s 97us/step - loss: 0.2269 - acc: 0.9260 - val_loss: 0.1251 - val_acc: 0.9624\n",
            "Epoch 5/10\n",
            "29404/29404 [==============================] - 3s 98us/step - loss: 0.2050 - acc: 0.9336 - val_loss: 0.1133 - val_acc: 0.9644\n",
            "Epoch 6/10\n",
            "29404/29404 [==============================] - 3s 98us/step - loss: 0.1900 - acc: 0.9393 - val_loss: 0.1067 - val_acc: 0.9665\n",
            "Epoch 7/10\n",
            "29404/29404 [==============================] - 3s 98us/step - loss: 0.1804 - acc: 0.9421 - val_loss: 0.1009 - val_acc: 0.9667\n",
            "Epoch 8/10\n",
            "29404/29404 [==============================] - 3s 98us/step - loss: 0.1712 - acc: 0.9452 - val_loss: 0.0936 - val_acc: 0.9710\n",
            "Epoch 9/10\n",
            "29404/29404 [==============================] - 3s 101us/step - loss: 0.1681 - acc: 0.9459 - val_loss: 0.0899 - val_acc: 0.9691\n",
            "Epoch 10/10\n",
            "29404/29404 [==============================] - 3s 103us/step - loss: 0.1618 - acc: 0.9473 - val_loss: 0.0879 - val_acc: 0.9700\n"
          ],
          "name": "stdout"
        },
        {
          "output_type": "execute_result",
          "data": {
            "text/plain": [
              "<keras.callbacks.History at 0x7fb1103cb438>"
            ]
          },
          "metadata": {
            "tags": []
          },
          "execution_count": 31
        }
      ]
    },
    {
      "cell_type": "markdown",
      "metadata": {
        "id": "85ginrII5sYV",
        "colab_type": "text"
      },
      "source": [
        "### Evaluate model\n",
        "- evaluate your model and get accuracy\n",
        "- use test features and labels"
      ]
    },
    {
      "cell_type": "code",
      "metadata": {
        "id": "k11-vrsm5sYW",
        "colab_type": "code",
        "outputId": "572b206e-cf62-4710-e387-ff1a33f107bd",
        "colab": {
          "base_uri": "https://localhost:8080/",
          "height": 1000
        }
      },
      "source": [
        "model.layers[0].get_weights()"
      ],
      "execution_count": 0,
      "outputs": [
        {
          "output_type": "execute_result",
          "data": {
            "text/plain": [
              "[array([[[[ 0.02482435,  0.16359985, -0.09254637, -0.10274441,\n",
              "           -0.03810707, -0.06215923, -0.0104416 ,  0.03013921,\n",
              "           -0.10812679,  0.15299669,  0.09883185,  0.00730676,\n",
              "           -0.10554474, -0.06280248,  0.11261316,  0.19070996,\n",
              "            0.0499672 ,  0.22424358,  0.08698734, -0.0722003 ,\n",
              "            0.07575958,  0.13023245,  0.05494197,  0.22139075,\n",
              "           -0.12467871,  0.15236633, -0.00125298,  0.11852511,\n",
              "            0.00481493,  0.02305049, -0.01460032, -0.12571262]],\n",
              " \n",
              "         [[ 0.127235  ,  0.04504207,  0.00225638,  0.11838273,\n",
              "            0.01053542,  0.00629328,  0.24458285,  0.01778587,\n",
              "           -0.0151227 ,  0.01431138,  0.11035501,  0.08569513,\n",
              "           -0.014347  , -0.06074285, -0.11855164,  0.18908264,\n",
              "           -0.00597967,  0.28876922, -0.13424894,  0.14093387,\n",
              "            0.16783321,  0.19506648,  0.11600149,  0.12523146,\n",
              "            0.11385772, -0.09265222,  0.05631336,  0.10989574,\n",
              "            0.05503598,  0.17214377,  0.17016055, -0.01321616]],\n",
              " \n",
              "         [[-0.12473844,  0.2552899 ,  0.02993331, -0.00245335,\n",
              "            0.06011699,  0.06686289,  0.06111028, -0.06004942,\n",
              "            0.06682323,  0.02243621,  0.00410577, -0.08812867,\n",
              "           -0.00822914,  0.03722532,  0.15101227,  0.21447426,\n",
              "            0.03496489,  0.25258374,  0.00650069,  0.06382191,\n",
              "           -0.01746444, -0.05001277,  0.03015721, -0.03198483,\n",
              "            0.01366602,  0.0079071 ,  0.2355784 , -0.09394682,\n",
              "           -0.05295579, -0.06570198,  0.22862649, -0.00994298]]],\n",
              " \n",
              " \n",
              "        [[[-0.07576089,  0.16722922,  0.09779634,  0.00226477,\n",
              "           -0.12405564,  0.01602967,  0.30740267, -0.01340868,\n",
              "           -0.11191397,  0.15113595,  0.15246882, -0.09245358,\n",
              "           -0.13718472, -0.06883878, -0.10080104,  0.26169625,\n",
              "           -0.01149209,  0.31933996, -0.12011218,  0.18632963,\n",
              "            0.16810872,  0.01816157,  0.05253781,  0.23564641,\n",
              "           -0.10236811,  0.19250382,  0.07764781,  0.1443512 ,\n",
              "            0.11631308,  0.07779121,  0.06923372,  0.00374924]],\n",
              " \n",
              "         [[-0.08107357,  0.28064656,  0.02439659,  0.1552087 ,\n",
              "           -0.08191516,  0.04330656,  0.32803744, -0.05148732,\n",
              "           -0.10403927,  0.15280846, -0.08210345,  0.11691407,\n",
              "            0.11979778, -0.14704768, -0.12488173,  0.22323017,\n",
              "            0.14116354,  0.32307696, -0.02936783,  0.26534334,\n",
              "           -0.08924785, -0.00269931,  0.21803102,  0.11285602,\n",
              "            0.0195183 ,  0.0866519 ,  0.12435655,  0.18075438,\n",
              "            0.17839155,  0.2055264 ,  0.20400198, -0.05922348]],\n",
              " \n",
              "         [[ 0.03953843,  0.17714241,  0.10530956, -0.0560496 ,\n",
              "            0.10729791, -0.00203662,  0.04408032, -0.10497203,\n",
              "           -0.0674952 ,  0.00659375,  0.05354761,  0.07478057,\n",
              "            0.09834118,  0.12167945,  0.12969081,  0.21917292,\n",
              "            0.07723653,  0.1103876 ,  0.11496174,  0.28354317,\n",
              "            0.04522464, -0.00784173,  0.22890076,  0.21126352,\n",
              "           -0.04892702,  0.03460379,  0.26306015, -0.06914656,\n",
              "            0.04266681, -0.00774675,  0.3200269 ,  0.02737381]]],\n",
              " \n",
              " \n",
              "        [[[ 0.0076932 ,  0.12965287, -0.02574378,  0.12593357,\n",
              "           -0.10283466,  0.0415758 ,  0.25710985,  0.06343736,\n",
              "           -0.07610107, -0.05921206, -0.06792177, -0.11230996,\n",
              "            0.08825527,  0.13283235, -0.03990554,  0.21987222,\n",
              "            0.02904944,  0.23106694, -0.05742321,  0.0653846 ,\n",
              "            0.0720396 ,  0.1668358 , -0.05563883,  0.21751179,\n",
              "            0.05719466,  0.06857646, -0.05274186,  0.22204992,\n",
              "            0.17803994,  0.17011043,  0.25583288,  0.01640771]],\n",
              " \n",
              "         [[-0.04199345,  0.10103229, -0.0572575 ,  0.04063953,\n",
              "           -0.10539027,  0.12693027,  0.13378808,  0.12231905,\n",
              "           -0.03887696, -0.01183802,  0.01942636, -0.05391994,\n",
              "           -0.08621138, -0.10697155, -0.01402982,  0.06678906,\n",
              "            0.12938882,  0.17527065, -0.13828985,  0.18359122,\n",
              "           -0.06481843, -0.04359575,  0.07412942, -0.01975512,\n",
              "            0.09585337,  0.09786703,  0.07500971,  0.169747  ,\n",
              "            0.11710878, -0.03496327,  0.3132673 , -0.04740033]],\n",
              " \n",
              "         [[ 0.10291913,  0.00958276, -0.03526516, -0.10571487,\n",
              "           -0.10351451, -0.09588771,  0.00313398, -0.04972308,\n",
              "           -0.01104175, -0.00070806, -0.13890536, -0.07812692,\n",
              "            0.18285601,  0.03624943,  0.0988379 ,  0.19790418,\n",
              "           -0.13433267,  0.07870911, -0.13457184,  0.17120187,\n",
              "            0.03188372, -0.07602962, -0.06238236,  0.04990088,\n",
              "           -0.11209695,  0.16585247,  0.27793252, -0.06146459,\n",
              "            0.11721117,  0.06743089,  0.2339047 ,  0.06738213]]]],\n",
              "       dtype=float32),\n",
              " array([ 2.15597101e-03, -1.65457726e-02,  4.32420662e-03, -6.36916468e-03,\n",
              "        -1.22924447e-02, -7.42098130e-03, -1.60696972e-02,  1.40097365e-02,\n",
              "        -2.72551260e-04, -5.34591964e-04,  2.36711297e-02,  2.76271743e-03,\n",
              "         2.37151273e-02, -2.57415860e-03,  5.38209360e-03, -2.19094977e-02,\n",
              "        -3.20962034e-02, -3.43267098e-02,  6.45254832e-03, -1.36192311e-02,\n",
              "        -2.71260832e-03,  9.79686083e-05,  3.83998035e-04, -6.02097018e-03,\n",
              "         2.43014190e-03, -4.68100654e-04, -3.06208106e-03, -3.15867132e-03,\n",
              "        -3.00520100e-03, -2.15115864e-02, -3.07406802e-02,  5.10594400e-04],\n",
              "       dtype=float32)]"
            ]
          },
          "metadata": {
            "tags": []
          },
          "execution_count": 32
        }
      ]
    },
    {
      "cell_type": "code",
      "metadata": {
        "id": "M4pjijx3hJ4R",
        "colab_type": "code",
        "outputId": "32c8b699-25e6-4b36-9459-021629470cbb",
        "colab": {
          "base_uri": "https://localhost:8080/",
          "height": 1000
        }
      },
      "source": [
        "model.layers[0].get_weights()"
      ],
      "execution_count": 0,
      "outputs": [
        {
          "output_type": "execute_result",
          "data": {
            "text/plain": [
              "[array([[[[ 0.02482435,  0.16359985, -0.09254637, -0.10274441,\n",
              "           -0.03810707, -0.06215923, -0.0104416 ,  0.03013921,\n",
              "           -0.10812679,  0.15299669,  0.09883185,  0.00730676,\n",
              "           -0.10554474, -0.06280248,  0.11261316,  0.19070996,\n",
              "            0.0499672 ,  0.22424358,  0.08698734, -0.0722003 ,\n",
              "            0.07575958,  0.13023245,  0.05494197,  0.22139075,\n",
              "           -0.12467871,  0.15236633, -0.00125298,  0.11852511,\n",
              "            0.00481493,  0.02305049, -0.01460032, -0.12571262]],\n",
              " \n",
              "         [[ 0.127235  ,  0.04504207,  0.00225638,  0.11838273,\n",
              "            0.01053542,  0.00629328,  0.24458285,  0.01778587,\n",
              "           -0.0151227 ,  0.01431138,  0.11035501,  0.08569513,\n",
              "           -0.014347  , -0.06074285, -0.11855164,  0.18908264,\n",
              "           -0.00597967,  0.28876922, -0.13424894,  0.14093387,\n",
              "            0.16783321,  0.19506648,  0.11600149,  0.12523146,\n",
              "            0.11385772, -0.09265222,  0.05631336,  0.10989574,\n",
              "            0.05503598,  0.17214377,  0.17016055, -0.01321616]],\n",
              " \n",
              "         [[-0.12473844,  0.2552899 ,  0.02993331, -0.00245335,\n",
              "            0.06011699,  0.06686289,  0.06111028, -0.06004942,\n",
              "            0.06682323,  0.02243621,  0.00410577, -0.08812867,\n",
              "           -0.00822914,  0.03722532,  0.15101227,  0.21447426,\n",
              "            0.03496489,  0.25258374,  0.00650069,  0.06382191,\n",
              "           -0.01746444, -0.05001277,  0.03015721, -0.03198483,\n",
              "            0.01366602,  0.0079071 ,  0.2355784 , -0.09394682,\n",
              "           -0.05295579, -0.06570198,  0.22862649, -0.00994298]]],\n",
              " \n",
              " \n",
              "        [[[-0.07576089,  0.16722922,  0.09779634,  0.00226477,\n",
              "           -0.12405564,  0.01602967,  0.30740267, -0.01340868,\n",
              "           -0.11191397,  0.15113595,  0.15246882, -0.09245358,\n",
              "           -0.13718472, -0.06883878, -0.10080104,  0.26169625,\n",
              "           -0.01149209,  0.31933996, -0.12011218,  0.18632963,\n",
              "            0.16810872,  0.01816157,  0.05253781,  0.23564641,\n",
              "           -0.10236811,  0.19250382,  0.07764781,  0.1443512 ,\n",
              "            0.11631308,  0.07779121,  0.06923372,  0.00374924]],\n",
              " \n",
              "         [[-0.08107357,  0.28064656,  0.02439659,  0.1552087 ,\n",
              "           -0.08191516,  0.04330656,  0.32803744, -0.05148732,\n",
              "           -0.10403927,  0.15280846, -0.08210345,  0.11691407,\n",
              "            0.11979778, -0.14704768, -0.12488173,  0.22323017,\n",
              "            0.14116354,  0.32307696, -0.02936783,  0.26534334,\n",
              "           -0.08924785, -0.00269931,  0.21803102,  0.11285602,\n",
              "            0.0195183 ,  0.0866519 ,  0.12435655,  0.18075438,\n",
              "            0.17839155,  0.2055264 ,  0.20400198, -0.05922348]],\n",
              " \n",
              "         [[ 0.03953843,  0.17714241,  0.10530956, -0.0560496 ,\n",
              "            0.10729791, -0.00203662,  0.04408032, -0.10497203,\n",
              "           -0.0674952 ,  0.00659375,  0.05354761,  0.07478057,\n",
              "            0.09834118,  0.12167945,  0.12969081,  0.21917292,\n",
              "            0.07723653,  0.1103876 ,  0.11496174,  0.28354317,\n",
              "            0.04522464, -0.00784173,  0.22890076,  0.21126352,\n",
              "           -0.04892702,  0.03460379,  0.26306015, -0.06914656,\n",
              "            0.04266681, -0.00774675,  0.3200269 ,  0.02737381]]],\n",
              " \n",
              " \n",
              "        [[[ 0.0076932 ,  0.12965287, -0.02574378,  0.12593357,\n",
              "           -0.10283466,  0.0415758 ,  0.25710985,  0.06343736,\n",
              "           -0.07610107, -0.05921206, -0.06792177, -0.11230996,\n",
              "            0.08825527,  0.13283235, -0.03990554,  0.21987222,\n",
              "            0.02904944,  0.23106694, -0.05742321,  0.0653846 ,\n",
              "            0.0720396 ,  0.1668358 , -0.05563883,  0.21751179,\n",
              "            0.05719466,  0.06857646, -0.05274186,  0.22204992,\n",
              "            0.17803994,  0.17011043,  0.25583288,  0.01640771]],\n",
              " \n",
              "         [[-0.04199345,  0.10103229, -0.0572575 ,  0.04063953,\n",
              "           -0.10539027,  0.12693027,  0.13378808,  0.12231905,\n",
              "           -0.03887696, -0.01183802,  0.01942636, -0.05391994,\n",
              "           -0.08621138, -0.10697155, -0.01402982,  0.06678906,\n",
              "            0.12938882,  0.17527065, -0.13828985,  0.18359122,\n",
              "           -0.06481843, -0.04359575,  0.07412942, -0.01975512,\n",
              "            0.09585337,  0.09786703,  0.07500971,  0.169747  ,\n",
              "            0.11710878, -0.03496327,  0.3132673 , -0.04740033]],\n",
              " \n",
              "         [[ 0.10291913,  0.00958276, -0.03526516, -0.10571487,\n",
              "           -0.10351451, -0.09588771,  0.00313398, -0.04972308,\n",
              "           -0.01104175, -0.00070806, -0.13890536, -0.07812692,\n",
              "            0.18285601,  0.03624943,  0.0988379 ,  0.19790418,\n",
              "           -0.13433267,  0.07870911, -0.13457184,  0.17120187,\n",
              "            0.03188372, -0.07602962, -0.06238236,  0.04990088,\n",
              "           -0.11209695,  0.16585247,  0.27793252, -0.06146459,\n",
              "            0.11721117,  0.06743089,  0.2339047 ,  0.06738213]]]],\n",
              "       dtype=float32),\n",
              " array([ 2.15597101e-03, -1.65457726e-02,  4.32420662e-03, -6.36916468e-03,\n",
              "        -1.22924447e-02, -7.42098130e-03, -1.60696972e-02,  1.40097365e-02,\n",
              "        -2.72551260e-04, -5.34591964e-04,  2.36711297e-02,  2.76271743e-03,\n",
              "         2.37151273e-02, -2.57415860e-03,  5.38209360e-03, -2.19094977e-02,\n",
              "        -3.20962034e-02, -3.43267098e-02,  6.45254832e-03, -1.36192311e-02,\n",
              "        -2.71260832e-03,  9.79686083e-05,  3.83998035e-04, -6.02097018e-03,\n",
              "         2.43014190e-03, -4.68100654e-04, -3.06208106e-03, -3.15867132e-03,\n",
              "        -3.00520100e-03, -2.15115864e-02, -3.07406802e-02,  5.10594400e-04],\n",
              "       dtype=float32)]"
            ]
          },
          "metadata": {
            "tags": []
          },
          "execution_count": 33
        }
      ]
    },
    {
      "cell_type": "code",
      "metadata": {
        "id": "FOvMkMWyhSUe",
        "colab_type": "code",
        "outputId": "17b096a7-c6c5-46a4-da26-3ca6c6a171f9",
        "colab": {
          "base_uri": "https://localhost:8080/",
          "height": 34
        }
      },
      "source": [
        "# Final evaluation of the model\n",
        "scores = model.evaluate(xtest9, ytest9, verbose=0)\n",
        "print(\"scores: \", scores, \" Baseline Error: %.2f%%\" % (100-scores[1]*100))"
      ],
      "execution_count": 0,
      "outputs": [
        {
          "output_type": "stream",
          "text": [
            "scores:  [0.08788308898257917, 0.9699650276617071]  Baseline Error: 3.00%\n"
          ],
          "name": "stdout"
        }
      ]
    },
    {
      "cell_type": "markdown",
      "metadata": {
        "id": "dTNhSDqn5sYY",
        "colab_type": "text"
      },
      "source": [
        "-----------------------------------------------------------------------------"
      ]
    },
    {
      "cell_type": "markdown",
      "metadata": {
        "colab_type": "text",
        "id": "FU-HwvIdH0M-"
      },
      "source": [
        "# Sentiment analysis \n",
        "\n",
        "The objective of the second problem is to perform Sentiment analysis from the tweets collected from the users targeted at various mobile devices.\n",
        "Based on the tweet posted by a user (text), we will classify if the sentiment of the user targeted at a particular mobile device is positive or not."
      ]
    },
    {
      "cell_type": "markdown",
      "metadata": {
        "id": "aIWWfNks5sYa",
        "colab_type": "text"
      },
      "source": [
        "## Question 1"
      ]
    },
    {
      "cell_type": "markdown",
      "metadata": {
        "colab_type": "text",
        "id": "nAQDiZHRH0M_"
      },
      "source": [
        "### Read the data\n",
        "- read tweets.csv\n",
        "- use latin encoding if it gives encoding error while loading"
      ]
    },
    {
      "cell_type": "code",
      "metadata": {
        "colab_type": "code",
        "id": "3eXGIe-SH0NA",
        "outputId": "2cec4b33-648c-499d-bb9c-451c4ca34e0e",
        "colab": {
          "base_uri": "https://localhost:8080/",
          "height": 121
        }
      },
      "source": [
        "from google.colab import drive\n",
        "drive.mount('/content/drive')\n",
        "\n",
        "import pandas as pd\n",
        "\n",
        "data = pd.read_csv('/content/drive/My Drive/AIML 2019/tweets.csv',encoding ='latin1')"
      ],
      "execution_count": 0,
      "outputs": [
        {
          "output_type": "stream",
          "text": [
            "Go to this URL in a browser: https://accounts.google.com/o/oauth2/auth?client_id=947318989803-6bn6qk8qdgf4n4g3pfee6491hc0brc4i.apps.googleusercontent.com&redirect_uri=urn%3Aietf%3Awg%3Aoauth%3A2.0%3Aoob&scope=email%20https%3A%2F%2Fwww.googleapis.com%2Fauth%2Fdocs.test%20https%3A%2F%2Fwww.googleapis.com%2Fauth%2Fdrive%20https%3A%2F%2Fwww.googleapis.com%2Fauth%2Fdrive.photos.readonly%20https%3A%2F%2Fwww.googleapis.com%2Fauth%2Fpeopleapi.readonly&response_type=code\n",
            "\n",
            "Enter your authorization code:\n",
            "··········\n",
            "Mounted at /content/drive\n"
          ],
          "name": "stdout"
        }
      ]
    },
    {
      "cell_type": "markdown",
      "metadata": {
        "id": "39pqw0aE5sYe",
        "colab_type": "text"
      },
      "source": [
        "### Drop null values\n",
        "- drop all the rows with null values"
      ]
    },
    {
      "cell_type": "code",
      "metadata": {
        "id": "BF_69oyI5sYf",
        "colab_type": "code",
        "outputId": "939cfec3-beaf-4727-df1d-bab42ac7971c",
        "colab": {
          "base_uri": "https://localhost:8080/",
          "height": 34
        }
      },
      "source": [
        "data.isnull().values.any()"
      ],
      "execution_count": 0,
      "outputs": [
        {
          "output_type": "execute_result",
          "data": {
            "text/plain": [
              "True"
            ]
          },
          "metadata": {
            "tags": []
          },
          "execution_count": 36
        }
      ]
    },
    {
      "cell_type": "code",
      "metadata": {
        "id": "5Cs0QdkMjIMj",
        "colab_type": "code",
        "outputId": "e961351e-eb1a-4b09-9dc3-44988c5d2eed",
        "colab": {
          "base_uri": "https://localhost:8080/",
          "height": 34
        }
      },
      "source": [
        "data.isna().values.any()"
      ],
      "execution_count": 0,
      "outputs": [
        {
          "output_type": "execute_result",
          "data": {
            "text/plain": [
              "True"
            ]
          },
          "metadata": {
            "tags": []
          },
          "execution_count": 37
        }
      ]
    },
    {
      "cell_type": "code",
      "metadata": {
        "id": "qpfZyWiqjL48",
        "colab_type": "code",
        "colab": {}
      },
      "source": [
        "data = data.dropna()"
      ],
      "execution_count": 0,
      "outputs": []
    },
    {
      "cell_type": "code",
      "metadata": {
        "id": "AK-4dRUIjQGn",
        "colab_type": "code",
        "outputId": "064da712-964f-4e0a-e7a5-c61444b731b8",
        "colab": {
          "base_uri": "https://localhost:8080/",
          "height": 34
        }
      },
      "source": [
        "data.isnull().values.any()"
      ],
      "execution_count": 0,
      "outputs": [
        {
          "output_type": "execute_result",
          "data": {
            "text/plain": [
              "False"
            ]
          },
          "metadata": {
            "tags": []
          },
          "execution_count": 39
        }
      ]
    },
    {
      "cell_type": "markdown",
      "metadata": {
        "id": "0bm4bDiy5sYg",
        "colab_type": "text"
      },
      "source": [
        "### Print the dataframe\n",
        "- print initial 5 rows of the data\n",
        "- use df.head()"
      ]
    },
    {
      "cell_type": "code",
      "metadata": {
        "scrolled": true,
        "id": "ceSlvAVa5sYh",
        "colab_type": "code",
        "outputId": "0223ace0-42d0-4e3f-b273-b28ca09241a3",
        "colab": {
          "base_uri": "https://localhost:8080/",
          "height": 279
        }
      },
      "source": [
        "data.head(5)"
      ],
      "execution_count": 0,
      "outputs": [
        {
          "output_type": "execute_result",
          "data": {
            "text/html": [
              "<div>\n",
              "<style scoped>\n",
              "    .dataframe tbody tr th:only-of-type {\n",
              "        vertical-align: middle;\n",
              "    }\n",
              "\n",
              "    .dataframe tbody tr th {\n",
              "        vertical-align: top;\n",
              "    }\n",
              "\n",
              "    .dataframe thead th {\n",
              "        text-align: right;\n",
              "    }\n",
              "</style>\n",
              "<table border=\"1\" class=\"dataframe\">\n",
              "  <thead>\n",
              "    <tr style=\"text-align: right;\">\n",
              "      <th></th>\n",
              "      <th>tweet_text</th>\n",
              "      <th>emotion_in_tweet_is_directed_at</th>\n",
              "      <th>is_there_an_emotion_directed_at_a_brand_or_product</th>\n",
              "    </tr>\n",
              "  </thead>\n",
              "  <tbody>\n",
              "    <tr>\n",
              "      <th>0</th>\n",
              "      <td>.@wesley83 I have a 3G iPhone. After 3 hrs twe...</td>\n",
              "      <td>iPhone</td>\n",
              "      <td>Negative emotion</td>\n",
              "    </tr>\n",
              "    <tr>\n",
              "      <th>1</th>\n",
              "      <td>@jessedee Know about @fludapp ? Awesome iPad/i...</td>\n",
              "      <td>iPad or iPhone App</td>\n",
              "      <td>Positive emotion</td>\n",
              "    </tr>\n",
              "    <tr>\n",
              "      <th>2</th>\n",
              "      <td>@swonderlin Can not wait for #iPad 2 also. The...</td>\n",
              "      <td>iPad</td>\n",
              "      <td>Positive emotion</td>\n",
              "    </tr>\n",
              "    <tr>\n",
              "      <th>3</th>\n",
              "      <td>@sxsw I hope this year's festival isn't as cra...</td>\n",
              "      <td>iPad or iPhone App</td>\n",
              "      <td>Negative emotion</td>\n",
              "    </tr>\n",
              "    <tr>\n",
              "      <th>4</th>\n",
              "      <td>@sxtxstate great stuff on Fri #SXSW: Marissa M...</td>\n",
              "      <td>Google</td>\n",
              "      <td>Positive emotion</td>\n",
              "    </tr>\n",
              "  </tbody>\n",
              "</table>\n",
              "</div>"
            ],
            "text/plain": [
              "                                          tweet_text  ... is_there_an_emotion_directed_at_a_brand_or_product\n",
              "0  .@wesley83 I have a 3G iPhone. After 3 hrs twe...  ...                                   Negative emotion\n",
              "1  @jessedee Know about @fludapp ? Awesome iPad/i...  ...                                   Positive emotion\n",
              "2  @swonderlin Can not wait for #iPad 2 also. The...  ...                                   Positive emotion\n",
              "3  @sxsw I hope this year's festival isn't as cra...  ...                                   Negative emotion\n",
              "4  @sxtxstate great stuff on Fri #SXSW: Marissa M...  ...                                   Positive emotion\n",
              "\n",
              "[5 rows x 3 columns]"
            ]
          },
          "metadata": {
            "tags": []
          },
          "execution_count": 40
        }
      ]
    },
    {
      "cell_type": "markdown",
      "metadata": {
        "id": "jcWfPVqG5sYi",
        "colab_type": "text"
      },
      "source": [
        "## Question 2"
      ]
    },
    {
      "cell_type": "markdown",
      "metadata": {
        "id": "JBbAeip_5sYj",
        "colab_type": "text"
      },
      "source": [
        "### Preprocess data\n",
        "- convert all text to lowercase - use .lower()\n",
        "- select only numbers, alphabets, and #+_ from text - use re.sub()\n",
        "- strip all the text - use .strip()\n",
        "    - this is for removing extra spaces"
      ]
    },
    {
      "cell_type": "code",
      "metadata": {
        "id": "PE4Bn_YT5sYj",
        "colab_type": "code",
        "colab": {}
      },
      "source": [
        "data['tweet_text'] = data['tweet_text'].str.lower()"
      ],
      "execution_count": 0,
      "outputs": []
    },
    {
      "cell_type": "markdown",
      "metadata": {
        "id": "QlMvbtrK5sYl",
        "colab_type": "text"
      },
      "source": [
        "print dataframe"
      ]
    },
    {
      "cell_type": "code",
      "metadata": {
        "id": "afocjaUn5sYm",
        "colab_type": "code",
        "outputId": "58fc311e-6fbc-47d4-c53a-4bc0b9c76922",
        "colab": {
          "base_uri": "https://localhost:8080/",
          "height": 279
        }
      },
      "source": [
        "data.head(5)"
      ],
      "execution_count": 0,
      "outputs": [
        {
          "output_type": "execute_result",
          "data": {
            "text/html": [
              "<div>\n",
              "<style scoped>\n",
              "    .dataframe tbody tr th:only-of-type {\n",
              "        vertical-align: middle;\n",
              "    }\n",
              "\n",
              "    .dataframe tbody tr th {\n",
              "        vertical-align: top;\n",
              "    }\n",
              "\n",
              "    .dataframe thead th {\n",
              "        text-align: right;\n",
              "    }\n",
              "</style>\n",
              "<table border=\"1\" class=\"dataframe\">\n",
              "  <thead>\n",
              "    <tr style=\"text-align: right;\">\n",
              "      <th></th>\n",
              "      <th>tweet_text</th>\n",
              "      <th>emotion_in_tweet_is_directed_at</th>\n",
              "      <th>is_there_an_emotion_directed_at_a_brand_or_product</th>\n",
              "    </tr>\n",
              "  </thead>\n",
              "  <tbody>\n",
              "    <tr>\n",
              "      <th>0</th>\n",
              "      <td>.@wesley83 i have a 3g iphone. after 3 hrs twe...</td>\n",
              "      <td>iPhone</td>\n",
              "      <td>Negative emotion</td>\n",
              "    </tr>\n",
              "    <tr>\n",
              "      <th>1</th>\n",
              "      <td>@jessedee know about @fludapp ? awesome ipad/i...</td>\n",
              "      <td>iPad or iPhone App</td>\n",
              "      <td>Positive emotion</td>\n",
              "    </tr>\n",
              "    <tr>\n",
              "      <th>2</th>\n",
              "      <td>@swonderlin can not wait for #ipad 2 also. the...</td>\n",
              "      <td>iPad</td>\n",
              "      <td>Positive emotion</td>\n",
              "    </tr>\n",
              "    <tr>\n",
              "      <th>3</th>\n",
              "      <td>@sxsw i hope this year's festival isn't as cra...</td>\n",
              "      <td>iPad or iPhone App</td>\n",
              "      <td>Negative emotion</td>\n",
              "    </tr>\n",
              "    <tr>\n",
              "      <th>4</th>\n",
              "      <td>@sxtxstate great stuff on fri #sxsw: marissa m...</td>\n",
              "      <td>Google</td>\n",
              "      <td>Positive emotion</td>\n",
              "    </tr>\n",
              "  </tbody>\n",
              "</table>\n",
              "</div>"
            ],
            "text/plain": [
              "                                          tweet_text  ... is_there_an_emotion_directed_at_a_brand_or_product\n",
              "0  .@wesley83 i have a 3g iphone. after 3 hrs twe...  ...                                   Negative emotion\n",
              "1  @jessedee know about @fludapp ? awesome ipad/i...  ...                                   Positive emotion\n",
              "2  @swonderlin can not wait for #ipad 2 also. the...  ...                                   Positive emotion\n",
              "3  @sxsw i hope this year's festival isn't as cra...  ...                                   Negative emotion\n",
              "4  @sxtxstate great stuff on fri #sxsw: marissa m...  ...                                   Positive emotion\n",
              "\n",
              "[5 rows x 3 columns]"
            ]
          },
          "metadata": {
            "tags": []
          },
          "execution_count": 42
        }
      ]
    },
    {
      "cell_type": "code",
      "metadata": {
        "id": "3g_OccgqkKT7",
        "colab_type": "code",
        "outputId": "3847eaf2-2fe7-4489-b404-0ee9bbdff1b7",
        "colab": {
          "base_uri": "https://localhost:8080/",
          "height": 279
        }
      },
      "source": [
        "import re\n",
        "data = data.applymap(lambda x: re.sub(r\"[^0-9A-Za-z#+_ ]+\",\"\",x))\n",
        "data.head(5)"
      ],
      "execution_count": 0,
      "outputs": [
        {
          "output_type": "execute_result",
          "data": {
            "text/html": [
              "<div>\n",
              "<style scoped>\n",
              "    .dataframe tbody tr th:only-of-type {\n",
              "        vertical-align: middle;\n",
              "    }\n",
              "\n",
              "    .dataframe tbody tr th {\n",
              "        vertical-align: top;\n",
              "    }\n",
              "\n",
              "    .dataframe thead th {\n",
              "        text-align: right;\n",
              "    }\n",
              "</style>\n",
              "<table border=\"1\" class=\"dataframe\">\n",
              "  <thead>\n",
              "    <tr style=\"text-align: right;\">\n",
              "      <th></th>\n",
              "      <th>tweet_text</th>\n",
              "      <th>emotion_in_tweet_is_directed_at</th>\n",
              "      <th>is_there_an_emotion_directed_at_a_brand_or_product</th>\n",
              "    </tr>\n",
              "  </thead>\n",
              "  <tbody>\n",
              "    <tr>\n",
              "      <th>0</th>\n",
              "      <td>wesley83 i have a 3g iphone after 3 hrs tweeti...</td>\n",
              "      <td>iPhone</td>\n",
              "      <td>Negative emotion</td>\n",
              "    </tr>\n",
              "    <tr>\n",
              "      <th>1</th>\n",
              "      <td>jessedee know about fludapp  awesome ipadiphon...</td>\n",
              "      <td>iPad or iPhone App</td>\n",
              "      <td>Positive emotion</td>\n",
              "    </tr>\n",
              "    <tr>\n",
              "      <th>2</th>\n",
              "      <td>swonderlin can not wait for #ipad 2 also they ...</td>\n",
              "      <td>iPad</td>\n",
              "      <td>Positive emotion</td>\n",
              "    </tr>\n",
              "    <tr>\n",
              "      <th>3</th>\n",
              "      <td>sxsw i hope this years festival isnt as crashy...</td>\n",
              "      <td>iPad or iPhone App</td>\n",
              "      <td>Negative emotion</td>\n",
              "    </tr>\n",
              "    <tr>\n",
              "      <th>4</th>\n",
              "      <td>sxtxstate great stuff on fri #sxsw marissa may...</td>\n",
              "      <td>Google</td>\n",
              "      <td>Positive emotion</td>\n",
              "    </tr>\n",
              "  </tbody>\n",
              "</table>\n",
              "</div>"
            ],
            "text/plain": [
              "                                          tweet_text  ... is_there_an_emotion_directed_at_a_brand_or_product\n",
              "0  wesley83 i have a 3g iphone after 3 hrs tweeti...  ...                                   Negative emotion\n",
              "1  jessedee know about fludapp  awesome ipadiphon...  ...                                   Positive emotion\n",
              "2  swonderlin can not wait for #ipad 2 also they ...  ...                                   Positive emotion\n",
              "3  sxsw i hope this years festival isnt as crashy...  ...                                   Negative emotion\n",
              "4  sxtxstate great stuff on fri #sxsw marissa may...  ...                                   Positive emotion\n",
              "\n",
              "[5 rows x 3 columns]"
            ]
          },
          "metadata": {
            "tags": []
          },
          "execution_count": 43
        }
      ]
    },
    {
      "cell_type": "code",
      "metadata": {
        "id": "9OBM04mWk6Ep",
        "colab_type": "code",
        "outputId": "7ac2674c-521b-455f-9044-0cac326dec21",
        "colab": {
          "base_uri": "https://localhost:8080/",
          "height": 279
        }
      },
      "source": [
        "data.tweet_text = data.tweet_text.str.strip()\n",
        "data.head(5)"
      ],
      "execution_count": 0,
      "outputs": [
        {
          "output_type": "execute_result",
          "data": {
            "text/html": [
              "<div>\n",
              "<style scoped>\n",
              "    .dataframe tbody tr th:only-of-type {\n",
              "        vertical-align: middle;\n",
              "    }\n",
              "\n",
              "    .dataframe tbody tr th {\n",
              "        vertical-align: top;\n",
              "    }\n",
              "\n",
              "    .dataframe thead th {\n",
              "        text-align: right;\n",
              "    }\n",
              "</style>\n",
              "<table border=\"1\" class=\"dataframe\">\n",
              "  <thead>\n",
              "    <tr style=\"text-align: right;\">\n",
              "      <th></th>\n",
              "      <th>tweet_text</th>\n",
              "      <th>emotion_in_tweet_is_directed_at</th>\n",
              "      <th>is_there_an_emotion_directed_at_a_brand_or_product</th>\n",
              "    </tr>\n",
              "  </thead>\n",
              "  <tbody>\n",
              "    <tr>\n",
              "      <th>0</th>\n",
              "      <td>wesley83 i have a 3g iphone after 3 hrs tweeti...</td>\n",
              "      <td>iPhone</td>\n",
              "      <td>Negative emotion</td>\n",
              "    </tr>\n",
              "    <tr>\n",
              "      <th>1</th>\n",
              "      <td>jessedee know about fludapp  awesome ipadiphon...</td>\n",
              "      <td>iPad or iPhone App</td>\n",
              "      <td>Positive emotion</td>\n",
              "    </tr>\n",
              "    <tr>\n",
              "      <th>2</th>\n",
              "      <td>swonderlin can not wait for #ipad 2 also they ...</td>\n",
              "      <td>iPad</td>\n",
              "      <td>Positive emotion</td>\n",
              "    </tr>\n",
              "    <tr>\n",
              "      <th>3</th>\n",
              "      <td>sxsw i hope this years festival isnt as crashy...</td>\n",
              "      <td>iPad or iPhone App</td>\n",
              "      <td>Negative emotion</td>\n",
              "    </tr>\n",
              "    <tr>\n",
              "      <th>4</th>\n",
              "      <td>sxtxstate great stuff on fri #sxsw marissa may...</td>\n",
              "      <td>Google</td>\n",
              "      <td>Positive emotion</td>\n",
              "    </tr>\n",
              "  </tbody>\n",
              "</table>\n",
              "</div>"
            ],
            "text/plain": [
              "                                          tweet_text  ... is_there_an_emotion_directed_at_a_brand_or_product\n",
              "0  wesley83 i have a 3g iphone after 3 hrs tweeti...  ...                                   Negative emotion\n",
              "1  jessedee know about fludapp  awesome ipadiphon...  ...                                   Positive emotion\n",
              "2  swonderlin can not wait for #ipad 2 also they ...  ...                                   Positive emotion\n",
              "3  sxsw i hope this years festival isnt as crashy...  ...                                   Negative emotion\n",
              "4  sxtxstate great stuff on fri #sxsw marissa may...  ...                                   Positive emotion\n",
              "\n",
              "[5 rows x 3 columns]"
            ]
          },
          "metadata": {
            "tags": []
          },
          "execution_count": 44
        }
      ]
    },
    {
      "cell_type": "markdown",
      "metadata": {
        "id": "bcTUnvtg5sYn",
        "colab_type": "text"
      },
      "source": [
        "## Question 3"
      ]
    },
    {
      "cell_type": "markdown",
      "metadata": {
        "id": "4gnaeSXZ5sYo",
        "colab_type": "text"
      },
      "source": [
        "### Preprocess data\n",
        "- in column \"is_there_an_emotion_directed_at_a_brand_or_product\"\n",
        "    - select only those rows where value equal to \"positive emotion\" or \"negative emotion\"\n",
        "- find the value counts of \"positive emotion\" and \"negative emotion\""
      ]
    },
    {
      "cell_type": "code",
      "metadata": {
        "id": "nLewJh_35sYp",
        "colab_type": "code",
        "colab": {}
      },
      "source": [
        "col = 'is_there_an_emotion_directed_at_a_brand_or_product'"
      ],
      "execution_count": 0,
      "outputs": []
    },
    {
      "cell_type": "code",
      "metadata": {
        "id": "3VFYB4eh5sYr",
        "colab_type": "code",
        "colab": {}
      },
      "source": [
        "data = data[(data[col] == 'Negative emotion') | (data[col] == 'Positive emotion')]"
      ],
      "execution_count": 0,
      "outputs": []
    },
    {
      "cell_type": "code",
      "metadata": {
        "id": "Zn5X46bslpr3",
        "colab_type": "code",
        "outputId": "472e925f-976e-4e6c-fd3f-aa410b97a654",
        "colab": {
          "base_uri": "https://localhost:8080/",
          "height": 279
        }
      },
      "source": [
        "data.head()"
      ],
      "execution_count": 0,
      "outputs": [
        {
          "output_type": "execute_result",
          "data": {
            "text/html": [
              "<div>\n",
              "<style scoped>\n",
              "    .dataframe tbody tr th:only-of-type {\n",
              "        vertical-align: middle;\n",
              "    }\n",
              "\n",
              "    .dataframe tbody tr th {\n",
              "        vertical-align: top;\n",
              "    }\n",
              "\n",
              "    .dataframe thead th {\n",
              "        text-align: right;\n",
              "    }\n",
              "</style>\n",
              "<table border=\"1\" class=\"dataframe\">\n",
              "  <thead>\n",
              "    <tr style=\"text-align: right;\">\n",
              "      <th></th>\n",
              "      <th>tweet_text</th>\n",
              "      <th>emotion_in_tweet_is_directed_at</th>\n",
              "      <th>is_there_an_emotion_directed_at_a_brand_or_product</th>\n",
              "    </tr>\n",
              "  </thead>\n",
              "  <tbody>\n",
              "    <tr>\n",
              "      <th>0</th>\n",
              "      <td>wesley83 i have a 3g iphone after 3 hrs tweeti...</td>\n",
              "      <td>iPhone</td>\n",
              "      <td>Negative emotion</td>\n",
              "    </tr>\n",
              "    <tr>\n",
              "      <th>1</th>\n",
              "      <td>jessedee know about fludapp  awesome ipadiphon...</td>\n",
              "      <td>iPad or iPhone App</td>\n",
              "      <td>Positive emotion</td>\n",
              "    </tr>\n",
              "    <tr>\n",
              "      <th>2</th>\n",
              "      <td>swonderlin can not wait for #ipad 2 also they ...</td>\n",
              "      <td>iPad</td>\n",
              "      <td>Positive emotion</td>\n",
              "    </tr>\n",
              "    <tr>\n",
              "      <th>3</th>\n",
              "      <td>sxsw i hope this years festival isnt as crashy...</td>\n",
              "      <td>iPad or iPhone App</td>\n",
              "      <td>Negative emotion</td>\n",
              "    </tr>\n",
              "    <tr>\n",
              "      <th>4</th>\n",
              "      <td>sxtxstate great stuff on fri #sxsw marissa may...</td>\n",
              "      <td>Google</td>\n",
              "      <td>Positive emotion</td>\n",
              "    </tr>\n",
              "  </tbody>\n",
              "</table>\n",
              "</div>"
            ],
            "text/plain": [
              "                                          tweet_text  ... is_there_an_emotion_directed_at_a_brand_or_product\n",
              "0  wesley83 i have a 3g iphone after 3 hrs tweeti...  ...                                   Negative emotion\n",
              "1  jessedee know about fludapp  awesome ipadiphon...  ...                                   Positive emotion\n",
              "2  swonderlin can not wait for #ipad 2 also they ...  ...                                   Positive emotion\n",
              "3  sxsw i hope this years festival isnt as crashy...  ...                                   Negative emotion\n",
              "4  sxtxstate great stuff on fri #sxsw marissa may...  ...                                   Positive emotion\n",
              "\n",
              "[5 rows x 3 columns]"
            ]
          },
          "metadata": {
            "tags": []
          },
          "execution_count": 47
        }
      ]
    },
    {
      "cell_type": "code",
      "metadata": {
        "id": "FVWFO1k6l-sz",
        "colab_type": "code",
        "outputId": "09eb06fb-7209-448c-a20e-8a15a967dadb",
        "colab": {
          "base_uri": "https://localhost:8080/",
          "height": 67
        }
      },
      "source": [
        "data[col].value_counts()"
      ],
      "execution_count": 0,
      "outputs": [
        {
          "output_type": "execute_result",
          "data": {
            "text/plain": [
              "Positive emotion    2672\n",
              "Negative emotion     519\n",
              "Name: is_there_an_emotion_directed_at_a_brand_or_product, dtype: int64"
            ]
          },
          "metadata": {
            "tags": []
          },
          "execution_count": 48
        }
      ]
    },
    {
      "cell_type": "markdown",
      "metadata": {
        "id": "6icGcVTE5sYz",
        "colab_type": "text"
      },
      "source": [
        "## Question 4"
      ]
    },
    {
      "cell_type": "markdown",
      "metadata": {
        "id": "Rg0rSepj5sYz",
        "colab_type": "text"
      },
      "source": [
        "### Encode labels\n",
        "- in column \"is_there_an_emotion_directed_at_a_brand_or_product\"\n",
        "    - change \"positive emotion\" to 1\n",
        "    - change \"negative emotion\" to 0\n",
        "- use map function to replace values"
      ]
    },
    {
      "cell_type": "code",
      "metadata": {
        "colab_type": "code",
        "id": "YftKwFv7H0N9",
        "colab": {}
      },
      "source": [
        "def emotion_code(x):\n",
        "  if x == 'Positive emotion':\n",
        "    return 1\n",
        "  else:\n",
        "    return 0\n",
        "  \n",
        "data[col] = data[col]"
      ],
      "execution_count": 0,
      "outputs": []
    },
    {
      "cell_type": "code",
      "metadata": {
        "id": "IHOATSn4mpaT",
        "colab_type": "code",
        "outputId": "c2672925-3860-40be-d37b-736953d8b7e0",
        "colab": {
          "base_uri": "https://localhost:8080/",
          "height": 279
        }
      },
      "source": [
        "data.head(5)"
      ],
      "execution_count": 0,
      "outputs": [
        {
          "output_type": "execute_result",
          "data": {
            "text/html": [
              "<div>\n",
              "<style scoped>\n",
              "    .dataframe tbody tr th:only-of-type {\n",
              "        vertical-align: middle;\n",
              "    }\n",
              "\n",
              "    .dataframe tbody tr th {\n",
              "        vertical-align: top;\n",
              "    }\n",
              "\n",
              "    .dataframe thead th {\n",
              "        text-align: right;\n",
              "    }\n",
              "</style>\n",
              "<table border=\"1\" class=\"dataframe\">\n",
              "  <thead>\n",
              "    <tr style=\"text-align: right;\">\n",
              "      <th></th>\n",
              "      <th>tweet_text</th>\n",
              "      <th>emotion_in_tweet_is_directed_at</th>\n",
              "      <th>is_there_an_emotion_directed_at_a_brand_or_product</th>\n",
              "    </tr>\n",
              "  </thead>\n",
              "  <tbody>\n",
              "    <tr>\n",
              "      <th>0</th>\n",
              "      <td>wesley83 i have a 3g iphone after 3 hrs tweeti...</td>\n",
              "      <td>iPhone</td>\n",
              "      <td>Negative emotion</td>\n",
              "    </tr>\n",
              "    <tr>\n",
              "      <th>1</th>\n",
              "      <td>jessedee know about fludapp  awesome ipadiphon...</td>\n",
              "      <td>iPad or iPhone App</td>\n",
              "      <td>Positive emotion</td>\n",
              "    </tr>\n",
              "    <tr>\n",
              "      <th>2</th>\n",
              "      <td>swonderlin can not wait for #ipad 2 also they ...</td>\n",
              "      <td>iPad</td>\n",
              "      <td>Positive emotion</td>\n",
              "    </tr>\n",
              "    <tr>\n",
              "      <th>3</th>\n",
              "      <td>sxsw i hope this years festival isnt as crashy...</td>\n",
              "      <td>iPad or iPhone App</td>\n",
              "      <td>Negative emotion</td>\n",
              "    </tr>\n",
              "    <tr>\n",
              "      <th>4</th>\n",
              "      <td>sxtxstate great stuff on fri #sxsw marissa may...</td>\n",
              "      <td>Google</td>\n",
              "      <td>Positive emotion</td>\n",
              "    </tr>\n",
              "  </tbody>\n",
              "</table>\n",
              "</div>"
            ],
            "text/plain": [
              "                                          tweet_text  ... is_there_an_emotion_directed_at_a_brand_or_product\n",
              "0  wesley83 i have a 3g iphone after 3 hrs tweeti...  ...                                   Negative emotion\n",
              "1  jessedee know about fludapp  awesome ipadiphon...  ...                                   Positive emotion\n",
              "2  swonderlin can not wait for #ipad 2 also they ...  ...                                   Positive emotion\n",
              "3  sxsw i hope this years festival isnt as crashy...  ...                                   Negative emotion\n",
              "4  sxtxstate great stuff on fri #sxsw marissa may...  ...                                   Positive emotion\n",
              "\n",
              "[5 rows x 3 columns]"
            ]
          },
          "metadata": {
            "tags": []
          },
          "execution_count": 50
        }
      ]
    },
    {
      "cell_type": "markdown",
      "metadata": {
        "id": "sC1qSe3h5sY2",
        "colab_type": "text"
      },
      "source": [
        "## Question 5"
      ]
    },
    {
      "cell_type": "markdown",
      "metadata": {
        "id": "aWlAN_Ts5sY2",
        "colab_type": "text"
      },
      "source": [
        "### Get feature and label\n",
        "- get column \"tweet_text\" as feature\n",
        "- get column \"is_there_an_emotion_directed_at_a_brand_or_product\" as label"
      ]
    },
    {
      "cell_type": "code",
      "metadata": {
        "id": "9A3sOZzR5sY4",
        "colab_type": "code",
        "colab": {}
      },
      "source": [
        "X = data['tweet_text']\n",
        "Y = data['is_there_an_emotion_directed_at_a_brand_or_product']"
      ],
      "execution_count": 0,
      "outputs": []
    },
    {
      "cell_type": "markdown",
      "metadata": {
        "colab_type": "text",
        "id": "3YErwYLCH0N_"
      },
      "source": [
        "### Create train and test data\n",
        "- use train_test_split to get train and test set\n",
        "- set a random_state\n",
        "- test_size: 0.25"
      ]
    },
    {
      "cell_type": "code",
      "metadata": {
        "colab_type": "code",
        "id": "lNkwrGgEH0OA",
        "colab": {}
      },
      "source": [
        "import pandas as pd\n",
        "import numpy as np\n",
        "import scipy as sp\n",
        "from sklearn.model_selection import train_test_split\n",
        "from sklearn.feature_extraction.text import CountVectorizer, TfidfVectorizer\n",
        "from sklearn.naive_bayes import MultinomialNB\n",
        "from sklearn.linear_model import LogisticRegression\n",
        "from sklearn import metrics\n",
        "from textblob import TextBlob, Word\n",
        "from nltk.stem.snowball import SnowballStemmer\n",
        "%matplotlib inline\n",
        "\n",
        "# split the the data into training and testing sets\n",
        "X_train, X_test, y_train, y_test = train_test_split(X, Y, random_state=1, test_size=0.25)"
      ],
      "execution_count": 0,
      "outputs": []
    },
    {
      "cell_type": "markdown",
      "metadata": {
        "id": "gMok2IX35sY8",
        "colab_type": "text"
      },
      "source": [
        "## Question 6"
      ]
    },
    {
      "cell_type": "markdown",
      "metadata": {
        "id": "dSqYjPuT5sY8",
        "colab_type": "text"
      },
      "source": [
        "### Vectorize data\n",
        "- create document-term matrix\n",
        "- use CountVectorizer()\n",
        "    - ngram_range: (1, 2)\n",
        "    - stop_words: 'english'\n",
        "    - min_df: 2   \n",
        "- do fit_transform on X_train\n",
        "- do transform on X_test"
      ]
    },
    {
      "cell_type": "code",
      "metadata": {
        "id": "bb9PnnqT5sY8",
        "colab_type": "code",
        "outputId": "7038c77c-fbba-4120-da5f-f709e099a94a",
        "colab": {
          "base_uri": "https://localhost:8080/",
          "height": 34
        }
      },
      "source": [
        "# use CountVectorizer to create document-term matrices from X_train and X_test\n",
        "vect = CountVectorizer(ngram_range = (1, 2), stop_words = 'english', min_df = 2)\n",
        "\n",
        "# create document-term matrices\n",
        "X_train_dtm = vect.fit_transform(X_train)\n",
        "X_test_dtm = vect.transform(X_test)\n",
        "X_train_dtm.shape"
      ],
      "execution_count": 0,
      "outputs": [
        {
          "output_type": "execute_result",
          "data": {
            "text/plain": [
              "(2393, 5434)"
            ]
          },
          "metadata": {
            "tags": []
          },
          "execution_count": 53
        }
      ]
    },
    {
      "cell_type": "markdown",
      "metadata": {
        "id": "qanDXve15sY_",
        "colab_type": "text"
      },
      "source": [
        "## Question 7"
      ]
    },
    {
      "cell_type": "markdown",
      "metadata": {
        "id": "uMaRNFkV5sY_",
        "colab_type": "text"
      },
      "source": [
        "### Select classifier logistic regression\n",
        "- use logistic regression for predicting sentiment of the given tweet\n",
        "- initialize classifier"
      ]
    },
    {
      "cell_type": "code",
      "metadata": {
        "id": "GT3dNgB55sZA",
        "colab_type": "code",
        "colab": {}
      },
      "source": [
        "from sklearn.linear_model import LogisticRegression\n",
        "\n",
        "lr = LogisticRegression()"
      ],
      "execution_count": 0,
      "outputs": []
    },
    {
      "cell_type": "markdown",
      "metadata": {
        "id": "pqQ6_HX35sZD",
        "colab_type": "text"
      },
      "source": [
        "### Fit the classifer\n",
        "- fit logistic regression classifier"
      ]
    },
    {
      "cell_type": "code",
      "metadata": {
        "id": "EIzvnNkq5sZD",
        "colab_type": "code",
        "outputId": "c7f20f79-16e2-4a0a-b444-53f5d7a9a550",
        "colab": {
          "base_uri": "https://localhost:8080/",
          "height": 101
        }
      },
      "source": [
        "lr.fit(X_train_dtm, y_train)"
      ],
      "execution_count": 0,
      "outputs": [
        {
          "output_type": "execute_result",
          "data": {
            "text/plain": [
              "LogisticRegression(C=1.0, class_weight=None, dual=False, fit_intercept=True,\n",
              "                   intercept_scaling=1, l1_ratio=None, max_iter=100,\n",
              "                   multi_class='warn', n_jobs=None, penalty='l2',\n",
              "                   random_state=None, solver='warn', tol=0.0001, verbose=0,\n",
              "                   warm_start=False)"
            ]
          },
          "metadata": {
            "tags": []
          },
          "execution_count": 55
        }
      ]
    },
    {
      "cell_type": "markdown",
      "metadata": {
        "id": "SZpMsYQF5sZF",
        "colab_type": "text"
      },
      "source": [
        "## Question 8"
      ]
    },
    {
      "cell_type": "markdown",
      "metadata": {
        "id": "KGnQnUww5sZF",
        "colab_type": "text"
      },
      "source": [
        "### Select classifier naive bayes\n",
        "- use naive bayes for predicting sentiment of the given tweet\n",
        "- initialize classifier\n",
        "- use MultinomialNB"
      ]
    },
    {
      "cell_type": "code",
      "metadata": {
        "colab_type": "code",
        "id": "2AbVYssaH0OE",
        "colab": {}
      },
      "source": [
        "from sklearn.naive_bayes import MultinomialNB\n",
        "\n",
        "nb = MultinomialNB()"
      ],
      "execution_count": 0,
      "outputs": []
    },
    {
      "cell_type": "markdown",
      "metadata": {
        "id": "QEaG942m5sZI",
        "colab_type": "text"
      },
      "source": [
        "### Fit the classifer\n",
        "- fit naive bayes classifier"
      ]
    },
    {
      "cell_type": "code",
      "metadata": {
        "id": "rLwRBj1R5sZI",
        "colab_type": "code",
        "outputId": "ae405e83-c5cd-4a62-c34b-105b93658032",
        "colab": {
          "base_uri": "https://localhost:8080/",
          "height": 34
        }
      },
      "source": [
        "nb.fit(X_train_dtm, y_train)"
      ],
      "execution_count": 0,
      "outputs": [
        {
          "output_type": "execute_result",
          "data": {
            "text/plain": [
              "MultinomialNB(alpha=1.0, class_prior=None, fit_prior=True)"
            ]
          },
          "metadata": {
            "tags": []
          },
          "execution_count": 57
        }
      ]
    },
    {
      "cell_type": "markdown",
      "metadata": {
        "id": "A7mgwYDJ5sZM",
        "colab_type": "text"
      },
      "source": [
        "## Question 9"
      ]
    },
    {
      "cell_type": "markdown",
      "metadata": {
        "id": "sZkA3tce5sZN",
        "colab_type": "text"
      },
      "source": [
        "### Make predictions on logistic regression\n",
        "- use your trained logistic regression model to make predictions on X_test"
      ]
    },
    {
      "cell_type": "code",
      "metadata": {
        "id": "l3f0M1ch5sZO",
        "colab_type": "code",
        "colab": {}
      },
      "source": [
        "y_lrpred_class = lr.predict(X_test_dtm)"
      ],
      "execution_count": 0,
      "outputs": []
    },
    {
      "cell_type": "markdown",
      "metadata": {
        "id": "lrIxjMUB5sZQ",
        "colab_type": "text"
      },
      "source": [
        "### Make predictions on naive bayes\n",
        "- use your trained naive bayes model to make predictions on X_test\n",
        "- use a different variable name to store predictions so that they are kept separately"
      ]
    },
    {
      "cell_type": "code",
      "metadata": {
        "id": "ZSQnwyLU5sZQ",
        "colab_type": "code",
        "colab": {}
      },
      "source": [
        "y_nbpred_class = nb.predict(X_test_dtm)"
      ],
      "execution_count": 0,
      "outputs": []
    },
    {
      "cell_type": "markdown",
      "metadata": {
        "id": "rwXQUE7b5sZS",
        "colab_type": "text"
      },
      "source": [
        "## Question 10"
      ]
    },
    {
      "cell_type": "markdown",
      "metadata": {
        "id": "E6SITIE75sZT",
        "colab_type": "text"
      },
      "source": [
        "### Calculate accuracy of logistic regression\n",
        "- check accuracy of logistic regression classifer\n",
        "- use sklearn.metrics.accuracy_score"
      ]
    },
    {
      "cell_type": "code",
      "metadata": {
        "colab_type": "code",
        "id": "clv2X0kKH0Ok",
        "outputId": "d56d0de2-42b4-43f6-d2f5-10d7395bfe6e",
        "colab": {
          "base_uri": "https://localhost:8080/",
          "height": 34
        }
      },
      "source": [
        "print (metrics.accuracy_score(y_test, y_lrpred_class))"
      ],
      "execution_count": 0,
      "outputs": [
        {
          "output_type": "stream",
          "text": [
            "0.8659147869674185\n"
          ],
          "name": "stdout"
        }
      ]
    },
    {
      "cell_type": "markdown",
      "metadata": {
        "id": "1Fd_Gnd05sZV",
        "colab_type": "text"
      },
      "source": [
        "### Calculate accuracy of naive bayes\n",
        "- check accuracy of naive bayes classifer\n",
        "- use sklearn.metrics.accuracy_score"
      ]
    },
    {
      "cell_type": "code",
      "metadata": {
        "colab_type": "code",
        "id": "d32uBpHi5sZW",
        "outputId": "85d766e3-b23e-4cfd-f533-df1e86f749ad",
        "colab": {
          "base_uri": "https://localhost:8080/",
          "height": 34
        }
      },
      "source": [
        "print ('Accuracy: ', metrics.accuracy_score(y_test, y_nbpred_class))"
      ],
      "execution_count": 0,
      "outputs": [
        {
          "output_type": "stream",
          "text": [
            "Accuracy:  0.8571428571428571\n"
          ],
          "name": "stdout"
        }
      ]
    },
    {
      "cell_type": "code",
      "metadata": {
        "id": "eXf1NZHon9lS",
        "colab_type": "code",
        "colab": {}
      },
      "source": [
        ""
      ],
      "execution_count": 0,
      "outputs": []
    }
  ]
}