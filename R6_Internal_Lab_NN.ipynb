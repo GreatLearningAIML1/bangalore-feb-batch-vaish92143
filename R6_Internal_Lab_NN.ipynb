{
  "nbformat": 4,
  "nbformat_minor": 0,
  "metadata": {
    "colab": {
      "name": "R6_Internal_Lab_UpdatedTF2_Prices_Iris.ipynb",
      "version": "0.3.2",
      "provenance": [],
      "collapsed_sections": []
    },
    "kernelspec": {
      "name": "python3",
      "display_name": "Python 3"
    },
    "accelerator": "GPU"
  },
  "cells": [
    {
      "cell_type": "markdown",
      "metadata": {
        "colab_type": "text",
        "id": "84Q8JfvaeZZ6"
      },
      "source": [
        "## Linear Classifier in TensorFlow \n",
        "Using Low Level API in Eager Execution mode"
      ]
    },
    {
      "cell_type": "markdown",
      "metadata": {
        "colab_type": "text",
        "id": "sb7Epo0VOB58"
      },
      "source": [
        "### Load tensorflow"
      ]
    },
    {
      "cell_type": "code",
      "metadata": {
        "id": "crX-4PC92CtQ",
        "colab_type": "code",
        "colab": {
          "base_uri": "https://localhost:8080/",
          "height": 125
        },
        "outputId": "dfd193c6-3bc7-4b4e-8829-0454a2a601c8"
      },
      "source": [
        "from google.colab import drive\n",
        "drive.mount('/content/drive')"
      ],
      "execution_count": 7,
      "outputs": [
        {
          "output_type": "stream",
          "text": [
            "Go to this URL in a browser: https://accounts.google.com/o/oauth2/auth?client_id=947318989803-6bn6qk8qdgf4n4g3pfee6491hc0brc4i.apps.googleusercontent.com&redirect_uri=urn%3Aietf%3Awg%3Aoauth%3A2.0%3Aoob&scope=email%20https%3A%2F%2Fwww.googleapis.com%2Fauth%2Fdocs.test%20https%3A%2F%2Fwww.googleapis.com%2Fauth%2Fdrive%20https%3A%2F%2Fwww.googleapis.com%2Fauth%2Fdrive.photos.readonly%20https%3A%2F%2Fwww.googleapis.com%2Fauth%2Fpeopleapi.readonly&response_type=code\n",
            "\n",
            "Enter your authorization code:\n",
            "··········\n",
            "Mounted at /content/drive\n"
          ],
          "name": "stdout"
        }
      ]
    },
    {
      "cell_type": "code",
      "metadata": {
        "colab_type": "code",
        "id": "Mjtb-EMcm5K0",
        "colab": {}
      },
      "source": [
        "#Enable Eager Execution if using tensflow version < 2.0\n",
        "#From tensorflow v2.0 onwards, Eager Execution will be enabled by default\n"
      ],
      "execution_count": 0,
      "outputs": []
    },
    {
      "cell_type": "markdown",
      "metadata": {
        "colab_type": "text",
        "id": "DxJDmJqqOB6K"
      },
      "source": [
        "### Collect Data"
      ]
    },
    {
      "cell_type": "code",
      "metadata": {
        "colab_type": "code",
        "id": "KiObW4V4SIOz",
        "colab": {}
      },
      "source": [
        "import pandas as pd\n",
        "import tensorflow as tf"
      ],
      "execution_count": 0,
      "outputs": []
    },
    {
      "cell_type": "code",
      "metadata": {
        "colab_type": "code",
        "id": "B4yQKMiJOB6R",
        "colab": {}
      },
      "source": [
        "data = pd.read_csv('/content/drive/My Drive/ColabNotebooks/prices.csv')"
      ],
      "execution_count": 0,
      "outputs": []
    },
    {
      "cell_type": "markdown",
      "metadata": {
        "colab_type": "text",
        "id": "fgkX6SEqOB6W"
      },
      "source": [
        "### Check all columns in the dataset"
      ]
    },
    {
      "cell_type": "code",
      "metadata": {
        "colab_type": "code",
        "id": "7K8pWsNQOB6X",
        "colab": {
          "base_uri": "https://localhost:8080/",
          "height": 34
        },
        "outputId": "7fa2e508-73eb-4b92-ce51-7501aefb0aea"
      },
      "source": [
        "data.columns"
      ],
      "execution_count": 67,
      "outputs": [
        {
          "output_type": "execute_result",
          "data": {
            "text/plain": [
              "Index(['date', 'symbol', 'open', 'close', 'low', 'high', 'volume'], dtype='object')"
            ]
          },
          "metadata": {
            "tags": []
          },
          "execution_count": 67
        }
      ]
    },
    {
      "cell_type": "markdown",
      "metadata": {
        "colab_type": "text",
        "id": "7dU6X7MpOB6c"
      },
      "source": [
        "### Drop columns `date` and  `symbol`"
      ]
    },
    {
      "cell_type": "code",
      "metadata": {
        "colab_type": "code",
        "id": "lh_6spSKOB6e",
        "colab": {}
      },
      "source": [
        "data = data.drop(['date','symbol'], axis =1 )"
      ],
      "execution_count": 0,
      "outputs": []
    },
    {
      "cell_type": "code",
      "metadata": {
        "colab_type": "code",
        "id": "xlwbUgTwOB6i",
        "outputId": "4af92e00-020a-4330-a90e-f4dbd0a15318",
        "colab": {
          "base_uri": "https://localhost:8080/",
          "height": 195
        }
      },
      "source": [
        "data.head()"
      ],
      "execution_count": 69,
      "outputs": [
        {
          "output_type": "execute_result",
          "data": {
            "text/html": [
              "<div>\n",
              "<style scoped>\n",
              "    .dataframe tbody tr th:only-of-type {\n",
              "        vertical-align: middle;\n",
              "    }\n",
              "\n",
              "    .dataframe tbody tr th {\n",
              "        vertical-align: top;\n",
              "    }\n",
              "\n",
              "    .dataframe thead th {\n",
              "        text-align: right;\n",
              "    }\n",
              "</style>\n",
              "<table border=\"1\" class=\"dataframe\">\n",
              "  <thead>\n",
              "    <tr style=\"text-align: right;\">\n",
              "      <th></th>\n",
              "      <th>open</th>\n",
              "      <th>close</th>\n",
              "      <th>low</th>\n",
              "      <th>high</th>\n",
              "      <th>volume</th>\n",
              "    </tr>\n",
              "  </thead>\n",
              "  <tbody>\n",
              "    <tr>\n",
              "      <th>0</th>\n",
              "      <td>123.430000</td>\n",
              "      <td>125.839996</td>\n",
              "      <td>122.309998</td>\n",
              "      <td>126.250000</td>\n",
              "      <td>2163600.0</td>\n",
              "    </tr>\n",
              "    <tr>\n",
              "      <th>1</th>\n",
              "      <td>125.239998</td>\n",
              "      <td>119.980003</td>\n",
              "      <td>119.940002</td>\n",
              "      <td>125.540001</td>\n",
              "      <td>2386400.0</td>\n",
              "    </tr>\n",
              "    <tr>\n",
              "      <th>2</th>\n",
              "      <td>116.379997</td>\n",
              "      <td>114.949997</td>\n",
              "      <td>114.930000</td>\n",
              "      <td>119.739998</td>\n",
              "      <td>2489500.0</td>\n",
              "    </tr>\n",
              "    <tr>\n",
              "      <th>3</th>\n",
              "      <td>115.480003</td>\n",
              "      <td>116.620003</td>\n",
              "      <td>113.500000</td>\n",
              "      <td>117.440002</td>\n",
              "      <td>2006300.0</td>\n",
              "    </tr>\n",
              "    <tr>\n",
              "      <th>4</th>\n",
              "      <td>117.010002</td>\n",
              "      <td>114.970001</td>\n",
              "      <td>114.089996</td>\n",
              "      <td>117.330002</td>\n",
              "      <td>1408600.0</td>\n",
              "    </tr>\n",
              "  </tbody>\n",
              "</table>\n",
              "</div>"
            ],
            "text/plain": [
              "         open       close         low        high     volume\n",
              "0  123.430000  125.839996  122.309998  126.250000  2163600.0\n",
              "1  125.239998  119.980003  119.940002  125.540001  2386400.0\n",
              "2  116.379997  114.949997  114.930000  119.739998  2489500.0\n",
              "3  115.480003  116.620003  113.500000  117.440002  2006300.0\n",
              "4  117.010002  114.970001  114.089996  117.330002  1408600.0"
            ]
          },
          "metadata": {
            "tags": []
          },
          "execution_count": 69
        }
      ]
    },
    {
      "cell_type": "markdown",
      "metadata": {
        "colab_type": "text",
        "id": "3DBv3WWYOB6q"
      },
      "source": [
        "### Consider only first 1000 rows in the dataset for building feature set and target set\n",
        "Target 'Volume' has very high values. Divide 'Volume' by 1000,000"
      ]
    },
    {
      "cell_type": "code",
      "metadata": {
        "colab_type": "code",
        "id": "Z_hG9rGBOB6s",
        "colab": {}
      },
      "source": [
        "data = data.head(1000)"
      ],
      "execution_count": 0,
      "outputs": []
    },
    {
      "cell_type": "code",
      "metadata": {
        "id": "fFjPfaMn3YKw",
        "colab_type": "code",
        "colab": {
          "base_uri": "https://localhost:8080/",
          "height": 34
        },
        "outputId": "8e4e5ff3-8751-41e9-f09b-5142999d6445"
      },
      "source": [
        "data.shape"
      ],
      "execution_count": 71,
      "outputs": [
        {
          "output_type": "execute_result",
          "data": {
            "text/plain": [
              "(1000, 5)"
            ]
          },
          "metadata": {
            "tags": []
          },
          "execution_count": 71
        }
      ]
    },
    {
      "cell_type": "code",
      "metadata": {
        "id": "tZ0WLkyr71SA",
        "colab_type": "code",
        "colab": {
          "base_uri": "https://localhost:8080/",
          "height": 34
        },
        "outputId": "a46a7b67-65fb-4c98-a93b-f374f42ffa9c"
      },
      "source": [
        "data.columns"
      ],
      "execution_count": 72,
      "outputs": [
        {
          "output_type": "execute_result",
          "data": {
            "text/plain": [
              "Index(['open', 'close', 'low', 'high', 'volume'], dtype='object')"
            ]
          },
          "metadata": {
            "tags": []
          },
          "execution_count": 72
        }
      ]
    },
    {
      "cell_type": "code",
      "metadata": {
        "id": "h8WUmA1i8mDl",
        "colab_type": "code",
        "colab": {}
      },
      "source": [
        "data['volume'] = data['volume']/1000000"
      ],
      "execution_count": 0,
      "outputs": []
    },
    {
      "cell_type": "code",
      "metadata": {
        "id": "g5we3Qqt8wGW",
        "colab_type": "code",
        "colab": {
          "base_uri": "https://localhost:8080/",
          "height": 195
        },
        "outputId": "fb2e2061-7151-4317-dee5-4aba7a415b33"
      },
      "source": [
        "data.head()"
      ],
      "execution_count": 74,
      "outputs": [
        {
          "output_type": "execute_result",
          "data": {
            "text/html": [
              "<div>\n",
              "<style scoped>\n",
              "    .dataframe tbody tr th:only-of-type {\n",
              "        vertical-align: middle;\n",
              "    }\n",
              "\n",
              "    .dataframe tbody tr th {\n",
              "        vertical-align: top;\n",
              "    }\n",
              "\n",
              "    .dataframe thead th {\n",
              "        text-align: right;\n",
              "    }\n",
              "</style>\n",
              "<table border=\"1\" class=\"dataframe\">\n",
              "  <thead>\n",
              "    <tr style=\"text-align: right;\">\n",
              "      <th></th>\n",
              "      <th>open</th>\n",
              "      <th>close</th>\n",
              "      <th>low</th>\n",
              "      <th>high</th>\n",
              "      <th>volume</th>\n",
              "    </tr>\n",
              "  </thead>\n",
              "  <tbody>\n",
              "    <tr>\n",
              "      <th>0</th>\n",
              "      <td>123.430000</td>\n",
              "      <td>125.839996</td>\n",
              "      <td>122.309998</td>\n",
              "      <td>126.250000</td>\n",
              "      <td>2.1636</td>\n",
              "    </tr>\n",
              "    <tr>\n",
              "      <th>1</th>\n",
              "      <td>125.239998</td>\n",
              "      <td>119.980003</td>\n",
              "      <td>119.940002</td>\n",
              "      <td>125.540001</td>\n",
              "      <td>2.3864</td>\n",
              "    </tr>\n",
              "    <tr>\n",
              "      <th>2</th>\n",
              "      <td>116.379997</td>\n",
              "      <td>114.949997</td>\n",
              "      <td>114.930000</td>\n",
              "      <td>119.739998</td>\n",
              "      <td>2.4895</td>\n",
              "    </tr>\n",
              "    <tr>\n",
              "      <th>3</th>\n",
              "      <td>115.480003</td>\n",
              "      <td>116.620003</td>\n",
              "      <td>113.500000</td>\n",
              "      <td>117.440002</td>\n",
              "      <td>2.0063</td>\n",
              "    </tr>\n",
              "    <tr>\n",
              "      <th>4</th>\n",
              "      <td>117.010002</td>\n",
              "      <td>114.970001</td>\n",
              "      <td>114.089996</td>\n",
              "      <td>117.330002</td>\n",
              "      <td>1.4086</td>\n",
              "    </tr>\n",
              "  </tbody>\n",
              "</table>\n",
              "</div>"
            ],
            "text/plain": [
              "         open       close         low        high  volume\n",
              "0  123.430000  125.839996  122.309998  126.250000  2.1636\n",
              "1  125.239998  119.980003  119.940002  125.540001  2.3864\n",
              "2  116.379997  114.949997  114.930000  119.739998  2.4895\n",
              "3  115.480003  116.620003  113.500000  117.440002  2.0063\n",
              "4  117.010002  114.970001  114.089996  117.330002  1.4086"
            ]
          },
          "metadata": {
            "tags": []
          },
          "execution_count": 74
        }
      ]
    },
    {
      "cell_type": "markdown",
      "metadata": {
        "colab_type": "text",
        "id": "M3UaApqYOB6x"
      },
      "source": [
        "### Divide the data into train and test sets"
      ]
    },
    {
      "cell_type": "code",
      "metadata": {
        "colab_type": "code",
        "id": "4LE4U8lTdQJq",
        "colab": {}
      },
      "source": [
        "from sklearn.model_selection import train_test_split\n",
        "\n",
        "X =  data.drop(\"volume\", axis=1)\n",
        "y =  data.pop(\"volume\")\n",
        "X_train, X_test, y_train, y_test = train_test_split(X, y, test_size=0.30, random_state=1)"
      ],
      "execution_count": 0,
      "outputs": []
    },
    {
      "cell_type": "markdown",
      "metadata": {
        "colab_type": "text",
        "id": "oYK-aUuLbrz2"
      },
      "source": [
        "#### Convert Training and Test Data to numpy float32 arrays\n"
      ]
    },
    {
      "cell_type": "code",
      "metadata": {
        "colab_type": "code",
        "id": "Ao-S0tQGcncz",
        "colab": {}
      },
      "source": [
        "import numpy as np\n",
        "X_train = np.asarray(X_train)\n",
        "y_train = np.asarray(y_train)"
      ],
      "execution_count": 0,
      "outputs": []
    },
    {
      "cell_type": "markdown",
      "metadata": {
        "colab_type": "text",
        "id": "im1ZegbDdKgv"
      },
      "source": [
        "### Normalize the data\n",
        "You can use Normalizer from sklearn.preprocessing"
      ]
    },
    {
      "cell_type": "code",
      "metadata": {
        "colab_type": "code",
        "id": "2EkKAy7fOB6y",
        "colab": {}
      },
      "source": [
        "from sklearn import preprocessing\n",
        "X_normalized = preprocessing.normalize(X, norm='l2')"
      ],
      "execution_count": 0,
      "outputs": []
    },
    {
      "cell_type": "markdown",
      "metadata": {
        "colab_type": "text",
        "id": "v6vE4eYCOB62"
      },
      "source": [
        "## Building the Model in tensorflow"
      ]
    },
    {
      "cell_type": "markdown",
      "metadata": {
        "colab_type": "text",
        "id": "297_qja4OB7A"
      },
      "source": [
        "1.Define Weights and Bias, use tf.zeros to initialize weights and Bias"
      ]
    },
    {
      "cell_type": "code",
      "metadata": {
        "colab_type": "code",
        "id": "L205qPeQOB7B",
        "colab": {}
      },
      "source": [
        "x = tf.placeholder(shape=[None,4],dtype=tf.float32, name='x-input')\n",
        "x_n = tf.nn.l2_normalize(x,1)\n",
        "y_ = tf.placeholder(shape=[None],dtype=tf.float32, name='y-input')\n",
        "\n",
        "W = tf.Variable(tf.zeros(shape=[4,1]), name=\"Weights\")\n",
        "b = tf.Variable(tf.zeros(shape=[1]),name=\"Bias\")"
      ],
      "execution_count": 0,
      "outputs": []
    },
    {
      "cell_type": "markdown",
      "metadata": {
        "colab_type": "text",
        "id": "HgtWA-UIOB7F"
      },
      "source": [
        "2.Define a function to calculate prediction"
      ]
    },
    {
      "cell_type": "code",
      "metadata": {
        "colab_type": "code",
        "id": "JveGlx25OB7H",
        "colab": {}
      },
      "source": [
        "y = tf.add(tf.matmul(x_n,W),b,name='output')"
      ],
      "execution_count": 0,
      "outputs": []
    },
    {
      "cell_type": "markdown",
      "metadata": {
        "colab_type": "text",
        "id": "TL1hIwf_OB7M"
      },
      "source": [
        "3.Loss (Cost) Function [Mean square error]"
      ]
    },
    {
      "cell_type": "code",
      "metadata": {
        "colab_type": "code",
        "id": "8VSWPiGXOB7P",
        "colab": {}
      },
      "source": [
        "loss = tf.reduce_mean(tf.square(y-y_),name='Loss')"
      ],
      "execution_count": 0,
      "outputs": []
    },
    {
      "cell_type": "markdown",
      "metadata": {
        "colab_type": "text",
        "id": "jzG85FUlOB7U"
      },
      "source": [
        "4.Function to train the Model\n",
        "\n",
        "1.   Record all the mathematical steps to calculate Loss\n",
        "2.   Calculate Gradients of Loss w.r.t weights and bias\n",
        "3.   Update Weights and Bias based on gradients and learning rate to minimize loss"
      ]
    },
    {
      "cell_type": "code",
      "metadata": {
        "colab_type": "code",
        "id": "cj802w-3OB7X",
        "colab": {}
      },
      "source": [
        "train_op = tf.train.GradientDescentOptimizer(0.03).minimize(loss)"
      ],
      "execution_count": 0,
      "outputs": []
    },
    {
      "cell_type": "markdown",
      "metadata": {
        "colab_type": "text",
        "id": "xSypb_u8OB7e"
      },
      "source": [
        "## Train the model for 100 epochs \n",
        "1. Observe the training loss at every iteration\n",
        "2. Observe Train loss at every 5th iteration"
      ]
    },
    {
      "cell_type": "code",
      "metadata": {
        "colab_type": "code",
        "id": "DVvgj7eQOB7f",
        "colab": {}
      },
      "source": [
        "sess = tf.Session()\n",
        "sess.run(tf.global_variables_initializer())\n",
        "training_epochs = 100"
      ],
      "execution_count": 0,
      "outputs": []
    },
    {
      "cell_type": "code",
      "metadata": {
        "id": "F5D5KJt3C39v",
        "colab_type": "code",
        "colab": {
          "base_uri": "https://localhost:8080/",
          "height": 369
        },
        "outputId": "b3288ed2-b5fd-4ca0-b8e5-d2a87714a6aa"
      },
      "source": [
        "for epoch in range(training_epochs):\n",
        "    _, train_loss = sess.run([train_op,loss],feed_dict={x:X_train, y_:y_train})\n",
        "    if epoch % 5 == 0:\n",
        "        print ('Training loss at step: ', epoch, ' is ', train_loss)"
      ],
      "execution_count": 83,
      "outputs": [
        {
          "output_type": "stream",
          "text": [
            "Training loss at step:  0  is  225.87958\n",
            "Training loss at step:  5  is  203.89145\n",
            "Training loss at step:  10  is  197.76749\n",
            "Training loss at step:  15  is  196.0619\n",
            "Training loss at step:  20  is  195.58687\n",
            "Training loss at step:  25  is  195.45459\n",
            "Training loss at step:  30  is  195.41777\n",
            "Training loss at step:  35  is  195.40747\n",
            "Training loss at step:  40  is  195.40462\n",
            "Training loss at step:  45  is  195.40384\n",
            "Training loss at step:  50  is  195.40361\n",
            "Training loss at step:  55  is  195.40355\n",
            "Training loss at step:  60  is  195.40353\n",
            "Training loss at step:  65  is  195.40353\n",
            "Training loss at step:  70  is  195.40353\n",
            "Training loss at step:  75  is  195.40353\n",
            "Training loss at step:  80  is  195.40353\n",
            "Training loss at step:  85  is  195.40353\n",
            "Training loss at step:  90  is  195.40353\n",
            "Training loss at step:  95  is  195.40353\n"
          ],
          "name": "stdout"
        }
      ]
    },
    {
      "cell_type": "markdown",
      "metadata": {
        "colab_type": "text",
        "id": "DOL2ncA1OB7q"
      },
      "source": [
        "### Get the shapes and values of W and b"
      ]
    },
    {
      "cell_type": "code",
      "metadata": {
        "colab_type": "code",
        "id": "ZGvtyTeuOB7r",
        "colab": {
          "base_uri": "https://localhost:8080/",
          "height": 34
        },
        "outputId": "6b4d7fd7-0fe6-4a50-e441-05f59c6b4ef8"
      },
      "source": [
        "W.shape"
      ],
      "execution_count": 84,
      "outputs": [
        {
          "output_type": "execute_result",
          "data": {
            "text/plain": [
              "TensorShape([Dimension(4), Dimension(1)])"
            ]
          },
          "metadata": {
            "tags": []
          },
          "execution_count": 84
        }
      ]
    },
    {
      "cell_type": "code",
      "metadata": {
        "colab_type": "code",
        "id": "vhDtOv5UOB7x",
        "colab": {
          "base_uri": "https://localhost:8080/",
          "height": 34
        },
        "outputId": "a5f1c4de-6cea-4dda-ab35-2ec6f1639a43"
      },
      "source": [
        "b.shape"
      ],
      "execution_count": 85,
      "outputs": [
        {
          "output_type": "execute_result",
          "data": {
            "text/plain": [
              "TensorShape([Dimension(1)])"
            ]
          },
          "metadata": {
            "tags": []
          },
          "execution_count": 85
        }
      ]
    },
    {
      "cell_type": "markdown",
      "metadata": {
        "colab_type": "text",
        "id": "ERq9GOKKciho"
      },
      "source": [
        "### Model Prediction on 1st Examples in Test Dataset"
      ]
    },
    {
      "cell_type": "code",
      "metadata": {
        "colab_type": "code",
        "id": "gKGvUWahcihp",
        "colab": {
          "base_uri": "https://localhost:8080/",
          "height": 34
        },
        "outputId": "acb2d7ff-e899-47ed-f969-6c1b22db4c68"
      },
      "source": [
        "test_loss = sess.run([loss],feed_dict={x:X_test, y_:y_test})\n",
        "print ('Training loss at step:is ', test_loss)"
      ],
      "execution_count": 86,
      "outputs": [
        {
          "output_type": "stream",
          "text": [
            "Training loss at step:is  [241.01949]\n"
          ],
          "name": "stdout"
        }
      ]
    },
    {
      "cell_type": "markdown",
      "metadata": {
        "colab_type": "text",
        "id": "YJRBuqXhOB7_"
      },
      "source": [
        "## Classification using tf.Keras\n",
        "\n",
        "In this exercise, we will build a Deep Neural Network using tf.Keras. We will use Iris Dataset for this exercise."
      ]
    },
    {
      "cell_type": "markdown",
      "metadata": {
        "colab_type": "text",
        "id": "O0g6lorycihf"
      },
      "source": [
        "### Load the given Iris data using pandas (Iris.csv)"
      ]
    },
    {
      "cell_type": "code",
      "metadata": {
        "colab_type": "code",
        "id": "6xFvb5sRcihg",
        "colab": {}
      },
      "source": [
        "keras_data = pd.read_csv('/content/drive/My Drive/ColabNotebooks/11_Iris.csv')"
      ],
      "execution_count": 0,
      "outputs": []
    },
    {
      "cell_type": "code",
      "metadata": {
        "id": "PEYbawOvJy9F",
        "colab_type": "code",
        "colab": {
          "base_uri": "https://localhost:8080/",
          "height": 70
        },
        "outputId": "10e12c19-fc78-47ff-805f-23aea242c7a1"
      },
      "source": [
        "keras_data.columns"
      ],
      "execution_count": 89,
      "outputs": [
        {
          "output_type": "execute_result",
          "data": {
            "text/plain": [
              "Index(['Id', 'SepalLengthCm', 'SepalWidthCm', 'PetalLengthCm', 'PetalWidthCm',\n",
              "       'Species'],\n",
              "      dtype='object')"
            ]
          },
          "metadata": {
            "tags": []
          },
          "execution_count": 89
        }
      ]
    },
    {
      "cell_type": "markdown",
      "metadata": {
        "colab_type": "text",
        "id": "SAB--Qdwcihm"
      },
      "source": [
        "### Target set has different categories. So, Label encode them. And convert into one-hot vectors using get_dummies in pandas."
      ]
    },
    {
      "cell_type": "code",
      "metadata": {
        "colab_type": "code",
        "id": "IJr5dYnocihm",
        "colab": {}
      },
      "source": [
        "keras_data = pd.get_dummies(keras_data, prefix=['Species'], columns=['Species'])"
      ],
      "execution_count": 0,
      "outputs": []
    },
    {
      "cell_type": "code",
      "metadata": {
        "id": "v5QXOyRHKFWm",
        "colab_type": "code",
        "colab": {
          "base_uri": "https://localhost:8080/",
          "height": 195
        },
        "outputId": "f3840803-7a40-4391-9b08-e76db8724eea"
      },
      "source": [
        "keras_data.head()"
      ],
      "execution_count": 92,
      "outputs": [
        {
          "output_type": "execute_result",
          "data": {
            "text/html": [
              "<div>\n",
              "<style scoped>\n",
              "    .dataframe tbody tr th:only-of-type {\n",
              "        vertical-align: middle;\n",
              "    }\n",
              "\n",
              "    .dataframe tbody tr th {\n",
              "        vertical-align: top;\n",
              "    }\n",
              "\n",
              "    .dataframe thead th {\n",
              "        text-align: right;\n",
              "    }\n",
              "</style>\n",
              "<table border=\"1\" class=\"dataframe\">\n",
              "  <thead>\n",
              "    <tr style=\"text-align: right;\">\n",
              "      <th></th>\n",
              "      <th>Id</th>\n",
              "      <th>SepalLengthCm</th>\n",
              "      <th>SepalWidthCm</th>\n",
              "      <th>PetalLengthCm</th>\n",
              "      <th>PetalWidthCm</th>\n",
              "      <th>Species_Iris-setosa</th>\n",
              "      <th>Species_Iris-versicolor</th>\n",
              "      <th>Species_Iris-virginica</th>\n",
              "    </tr>\n",
              "  </thead>\n",
              "  <tbody>\n",
              "    <tr>\n",
              "      <th>0</th>\n",
              "      <td>1</td>\n",
              "      <td>5.1</td>\n",
              "      <td>3.5</td>\n",
              "      <td>1.4</td>\n",
              "      <td>0.2</td>\n",
              "      <td>1</td>\n",
              "      <td>0</td>\n",
              "      <td>0</td>\n",
              "    </tr>\n",
              "    <tr>\n",
              "      <th>1</th>\n",
              "      <td>2</td>\n",
              "      <td>4.9</td>\n",
              "      <td>3.0</td>\n",
              "      <td>1.4</td>\n",
              "      <td>0.2</td>\n",
              "      <td>1</td>\n",
              "      <td>0</td>\n",
              "      <td>0</td>\n",
              "    </tr>\n",
              "    <tr>\n",
              "      <th>2</th>\n",
              "      <td>3</td>\n",
              "      <td>4.7</td>\n",
              "      <td>3.2</td>\n",
              "      <td>1.3</td>\n",
              "      <td>0.2</td>\n",
              "      <td>1</td>\n",
              "      <td>0</td>\n",
              "      <td>0</td>\n",
              "    </tr>\n",
              "    <tr>\n",
              "      <th>3</th>\n",
              "      <td>4</td>\n",
              "      <td>4.6</td>\n",
              "      <td>3.1</td>\n",
              "      <td>1.5</td>\n",
              "      <td>0.2</td>\n",
              "      <td>1</td>\n",
              "      <td>0</td>\n",
              "      <td>0</td>\n",
              "    </tr>\n",
              "    <tr>\n",
              "      <th>4</th>\n",
              "      <td>5</td>\n",
              "      <td>5.0</td>\n",
              "      <td>3.6</td>\n",
              "      <td>1.4</td>\n",
              "      <td>0.2</td>\n",
              "      <td>1</td>\n",
              "      <td>0</td>\n",
              "      <td>0</td>\n",
              "    </tr>\n",
              "  </tbody>\n",
              "</table>\n",
              "</div>"
            ],
            "text/plain": [
              "   Id  SepalLengthCm  ...  Species_Iris-versicolor  Species_Iris-virginica\n",
              "0   1            5.1  ...                        0                       0\n",
              "1   2            4.9  ...                        0                       0\n",
              "2   3            4.7  ...                        0                       0\n",
              "3   4            4.6  ...                        0                       0\n",
              "4   5            5.0  ...                        0                       0\n",
              "\n",
              "[5 rows x 8 columns]"
            ]
          },
          "metadata": {
            "tags": []
          },
          "execution_count": 92
        }
      ]
    },
    {
      "cell_type": "code",
      "metadata": {
        "id": "4Bk6NcZYMKDd",
        "colab_type": "code",
        "colab": {
          "base_uri": "https://localhost:8080/",
          "height": 87
        },
        "outputId": "6c8615c2-83a0-4f54-9905-261d523a43c6"
      },
      "source": [
        "keras_data.columns"
      ],
      "execution_count": 99,
      "outputs": [
        {
          "output_type": "execute_result",
          "data": {
            "text/plain": [
              "Index(['Id', 'SepalLengthCm', 'SepalWidthCm', 'PetalLengthCm', 'PetalWidthCm',\n",
              "       'Species_Iris-setosa', 'Species_Iris-versicolor',\n",
              "       'Species_Iris-virginica'],\n",
              "      dtype='object')"
            ]
          },
          "metadata": {
            "tags": []
          },
          "execution_count": 99
        }
      ]
    },
    {
      "cell_type": "code",
      "metadata": {
        "id": "L6W7pe13MUWO",
        "colab_type": "code",
        "colab": {
          "base_uri": "https://localhost:8080/",
          "height": 34
        },
        "outputId": "8f71d3c1-8259-42a0-9823-38ded3b6e520"
      },
      "source": [
        "type(data)"
      ],
      "execution_count": 98,
      "outputs": [
        {
          "output_type": "execute_result",
          "data": {
            "text/plain": [
              "pandas.core.frame.DataFrame"
            ]
          },
          "metadata": {
            "tags": []
          },
          "execution_count": 98
        }
      ]
    },
    {
      "cell_type": "markdown",
      "metadata": {
        "colab_type": "text",
        "id": "D95nY5ILcihj"
      },
      "source": [
        "### Splitting the data into feature set and target set"
      ]
    },
    {
      "cell_type": "code",
      "metadata": {
        "colab_type": "code",
        "id": "RyMQoLMucihj",
        "colab": {}
      },
      "source": [
        "from sklearn.model_selection import train_test_split\n",
        "X =  keras_data.drop([\"Species_Iris-setosa\",\"Species_Iris-versicolor\",\"Species_Iris-virginica\",\"Id\"], axis=1)\n",
        "y =  keras_data[[\"Species_Iris-setosa\",\"Species_Iris-versicolor\",\"Species_Iris-virginica\"]]\n",
        "X_train, X_test, y_train, y_test = train_test_split(X, y, test_size=0.30, random_state=1)"
      ],
      "execution_count": 0,
      "outputs": []
    },
    {
      "cell_type": "markdown",
      "metadata": {
        "colab_type": "text",
        "id": "b22qpC5xcihr"
      },
      "source": [
        "###  Building Model in tf.keras\n",
        "\n",
        "Build a Linear Classifier model  <br>\n",
        "1.  Use Dense Layer  with input shape of 4 (according to the feature set) and number of outputs set to 3<br> \n",
        "2. Apply Softmax on Dense Layer outputs <br>\n",
        "3. Use SGD as Optimizer\n",
        "4. Use categorical_crossentropy as loss function "
      ]
    },
    {
      "cell_type": "code",
      "metadata": {
        "colab_type": "code",
        "id": "Hov_UFnUciht",
        "colab": {
          "base_uri": "https://localhost:8080/",
          "height": 230
        },
        "outputId": "eabfc84d-7573-4cce-fd62-8f0e88701888"
      },
      "source": [
        "from keras.models import Sequential\n",
        "from keras.layers import Dense\n",
        "\n",
        "# create model\n",
        "model = Sequential()\n",
        "model.add(Dense(12, input_dim=4, activation='relu'))\n",
        "model.add(Dense(8, activation='relu'))\n",
        "model.add(Dense(3, activation='sigmoid'))\n",
        "# Compile model\n",
        "model.compile(loss='categorical_crossentropy', optimizer='sgd', metrics=['accuracy'])\n"
      ],
      "execution_count": 108,
      "outputs": [
        {
          "output_type": "stream",
          "text": [
            "WARNING: Logging before flag parsing goes to stderr.\n",
            "W0721 11:16:31.101130 139815947892608 deprecation_wrapper.py:119] From /usr/local/lib/python3.6/dist-packages/keras/backend/tensorflow_backend.py:74: The name tf.get_default_graph is deprecated. Please use tf.compat.v1.get_default_graph instead.\n",
            "\n",
            "W0721 11:16:31.108166 139815947892608 deprecation_wrapper.py:119] From /usr/local/lib/python3.6/dist-packages/keras/backend/tensorflow_backend.py:517: The name tf.placeholder is deprecated. Please use tf.compat.v1.placeholder instead.\n",
            "\n",
            "W0721 11:16:31.115797 139815947892608 deprecation_wrapper.py:119] From /usr/local/lib/python3.6/dist-packages/keras/backend/tensorflow_backend.py:4138: The name tf.random_uniform is deprecated. Please use tf.random.uniform instead.\n",
            "\n",
            "W0721 11:16:31.168733 139815947892608 deprecation_wrapper.py:119] From /usr/local/lib/python3.6/dist-packages/keras/optimizers.py:790: The name tf.train.Optimizer is deprecated. Please use tf.compat.v1.train.Optimizer instead.\n",
            "\n",
            "W0721 11:16:31.195473 139815947892608 deprecation_wrapper.py:119] From /usr/local/lib/python3.6/dist-packages/keras/backend/tensorflow_backend.py:3295: The name tf.log is deprecated. Please use tf.math.log instead.\n",
            "\n"
          ],
          "name": "stderr"
        }
      ]
    },
    {
      "cell_type": "markdown",
      "metadata": {
        "colab_type": "text",
        "id": "T5FdzqIKcihw"
      },
      "source": [
        "### Model Training "
      ]
    },
    {
      "cell_type": "code",
      "metadata": {
        "colab_type": "code",
        "id": "4qLEdHPscihx",
        "colab": {
          "base_uri": "https://localhost:8080/",
          "height": 1000
        },
        "outputId": "0fbf4b23-f536-4ff8-86b7-6f10536565b6"
      },
      "source": [
        "model.fit(X_train,y_train , epochs=100, batch_size=10)"
      ],
      "execution_count": 110,
      "outputs": [
        {
          "output_type": "stream",
          "text": [
            "W0721 11:17:37.409340 139815947892608 deprecation.py:323] From /usr/local/lib/python3.6/dist-packages/tensorflow/python/ops/math_grad.py:1250: add_dispatch_support.<locals>.wrapper (from tensorflow.python.ops.array_ops) is deprecated and will be removed in a future version.\n",
            "Instructions for updating:\n",
            "Use tf.where in 2.0, which has the same broadcast rule as np.where\n",
            "W0721 11:17:37.475849 139815947892608 deprecation_wrapper.py:119] From /usr/local/lib/python3.6/dist-packages/keras/backend/tensorflow_backend.py:986: The name tf.assign_add is deprecated. Please use tf.compat.v1.assign_add instead.\n",
            "\n"
          ],
          "name": "stderr"
        },
        {
          "output_type": "stream",
          "text": [
            "Epoch 1/100\n",
            "105/105 [==============================] - 0s 3ms/step - loss: 1.5848 - acc: 0.3429\n",
            "Epoch 2/100\n",
            "105/105 [==============================] - 0s 435us/step - loss: 1.1925 - acc: 0.4667\n",
            "Epoch 3/100\n",
            "105/105 [==============================] - 0s 419us/step - loss: 1.0854 - acc: 0.6952\n",
            "Epoch 4/100\n",
            "105/105 [==============================] - 0s 431us/step - loss: 1.0465 - acc: 0.6952\n",
            "Epoch 5/100\n",
            "105/105 [==============================] - 0s 416us/step - loss: 1.0250 - acc: 0.6952\n",
            "Epoch 6/100\n",
            "105/105 [==============================] - 0s 441us/step - loss: 1.0044 - acc: 0.6952\n",
            "Epoch 7/100\n",
            "105/105 [==============================] - 0s 427us/step - loss: 0.9830 - acc: 0.6952\n",
            "Epoch 8/100\n",
            "105/105 [==============================] - 0s 425us/step - loss: 0.9600 - acc: 0.6952\n",
            "Epoch 9/100\n",
            "105/105 [==============================] - 0s 409us/step - loss: 0.9385 - acc: 0.6952\n",
            "Epoch 10/100\n",
            "105/105 [==============================] - 0s 401us/step - loss: 0.9128 - acc: 0.6952\n",
            "Epoch 11/100\n",
            "105/105 [==============================] - 0s 441us/step - loss: 0.8839 - acc: 0.6952\n",
            "Epoch 12/100\n",
            "105/105 [==============================] - 0s 428us/step - loss: 0.8545 - acc: 0.6952\n",
            "Epoch 13/100\n",
            "105/105 [==============================] - 0s 426us/step - loss: 0.8265 - acc: 0.6952\n",
            "Epoch 14/100\n",
            "105/105 [==============================] - 0s 426us/step - loss: 0.7987 - acc: 0.6952\n",
            "Epoch 15/100\n",
            "105/105 [==============================] - 0s 401us/step - loss: 0.7645 - acc: 0.6952\n",
            "Epoch 16/100\n",
            "105/105 [==============================] - 0s 395us/step - loss: 0.7330 - acc: 0.6952\n",
            "Epoch 17/100\n",
            "105/105 [==============================] - 0s 417us/step - loss: 0.6979 - acc: 0.6952\n",
            "Epoch 18/100\n",
            "105/105 [==============================] - 0s 417us/step - loss: 0.6614 - acc: 0.6952\n",
            "Epoch 19/100\n",
            "105/105 [==============================] - 0s 441us/step - loss: 0.6280 - acc: 0.7238\n",
            "Epoch 20/100\n",
            "105/105 [==============================] - 0s 414us/step - loss: 0.5961 - acc: 0.7619\n",
            "Epoch 21/100\n",
            "105/105 [==============================] - 0s 437us/step - loss: 0.5660 - acc: 0.8095\n",
            "Epoch 22/100\n",
            "105/105 [==============================] - 0s 421us/step - loss: 0.5403 - acc: 0.8762\n",
            "Epoch 23/100\n",
            "105/105 [==============================] - 0s 554us/step - loss: 0.5121 - acc: 0.8476\n",
            "Epoch 24/100\n",
            "105/105 [==============================] - 0s 420us/step - loss: 0.4874 - acc: 0.9333\n",
            "Epoch 25/100\n",
            "105/105 [==============================] - 0s 401us/step - loss: 0.4727 - acc: 0.8762\n",
            "Epoch 26/100\n",
            "105/105 [==============================] - 0s 480us/step - loss: 0.4663 - acc: 0.8857\n",
            "Epoch 27/100\n",
            "105/105 [==============================] - 0s 453us/step - loss: 0.4314 - acc: 0.9429\n",
            "Epoch 28/100\n",
            "105/105 [==============================] - 0s 427us/step - loss: 0.4147 - acc: 0.9333\n",
            "Epoch 29/100\n",
            "105/105 [==============================] - 0s 452us/step - loss: 0.3971 - acc: 0.9333\n",
            "Epoch 30/100\n",
            "105/105 [==============================] - 0s 489us/step - loss: 0.3905 - acc: 0.9048\n",
            "Epoch 31/100\n",
            "105/105 [==============================] - 0s 487us/step - loss: 0.3798 - acc: 0.9429\n",
            "Epoch 32/100\n",
            "105/105 [==============================] - 0s 471us/step - loss: 0.3550 - acc: 0.9333\n",
            "Epoch 33/100\n",
            "105/105 [==============================] - 0s 474us/step - loss: 0.3483 - acc: 0.9333\n",
            "Epoch 34/100\n",
            "105/105 [==============================] - 0s 428us/step - loss: 0.3319 - acc: 0.9524\n",
            "Epoch 35/100\n",
            "105/105 [==============================] - 0s 456us/step - loss: 0.3307 - acc: 0.9429\n",
            "Epoch 36/100\n",
            "105/105 [==============================] - 0s 456us/step - loss: 0.3130 - acc: 0.9429\n",
            "Epoch 37/100\n",
            "105/105 [==============================] - 0s 457us/step - loss: 0.3072 - acc: 0.9714\n",
            "Epoch 38/100\n",
            "105/105 [==============================] - 0s 461us/step - loss: 0.2924 - acc: 0.9429\n",
            "Epoch 39/100\n",
            "105/105 [==============================] - 0s 440us/step - loss: 0.2805 - acc: 0.9524\n",
            "Epoch 40/100\n",
            "105/105 [==============================] - 0s 470us/step - loss: 0.2786 - acc: 0.9619\n",
            "Epoch 41/100\n",
            "105/105 [==============================] - 0s 486us/step - loss: 0.2754 - acc: 0.9714\n",
            "Epoch 42/100\n",
            "105/105 [==============================] - 0s 458us/step - loss: 0.2613 - acc: 0.9429\n",
            "Epoch 43/100\n",
            "105/105 [==============================] - 0s 544us/step - loss: 0.2557 - acc: 0.9619\n",
            "Epoch 44/100\n",
            "105/105 [==============================] - 0s 392us/step - loss: 0.2545 - acc: 0.9429\n",
            "Epoch 45/100\n",
            "105/105 [==============================] - 0s 495us/step - loss: 0.2420 - acc: 0.9524\n",
            "Epoch 46/100\n",
            "105/105 [==============================] - 0s 487us/step - loss: 0.2470 - acc: 0.9429\n",
            "Epoch 47/100\n",
            "105/105 [==============================] - 0s 402us/step - loss: 0.2328 - acc: 0.9524\n",
            "Epoch 48/100\n",
            "105/105 [==============================] - 0s 528us/step - loss: 0.2296 - acc: 0.9429\n",
            "Epoch 49/100\n",
            "105/105 [==============================] - 0s 437us/step - loss: 0.2104 - acc: 0.9524\n",
            "Epoch 50/100\n",
            "105/105 [==============================] - 0s 469us/step - loss: 0.2532 - acc: 0.9238\n",
            "Epoch 51/100\n",
            "105/105 [==============================] - 0s 432us/step - loss: 0.2247 - acc: 0.9429\n",
            "Epoch 52/100\n",
            "105/105 [==============================] - 0s 436us/step - loss: 0.2188 - acc: 0.9333\n",
            "Epoch 53/100\n",
            "105/105 [==============================] - 0s 490us/step - loss: 0.2040 - acc: 0.9524\n",
            "Epoch 54/100\n",
            "105/105 [==============================] - 0s 468us/step - loss: 0.2038 - acc: 0.9619\n",
            "Epoch 55/100\n",
            "105/105 [==============================] - 0s 479us/step - loss: 0.2196 - acc: 0.9619\n",
            "Epoch 56/100\n",
            "105/105 [==============================] - 0s 535us/step - loss: 0.2012 - acc: 0.9619\n",
            "Epoch 57/100\n",
            "105/105 [==============================] - 0s 451us/step - loss: 0.2080 - acc: 0.9714\n",
            "Epoch 58/100\n",
            "105/105 [==============================] - 0s 473us/step - loss: 0.2293 - acc: 0.9524\n",
            "Epoch 59/100\n",
            "105/105 [==============================] - 0s 441us/step - loss: 0.1897 - acc: 0.9524\n",
            "Epoch 60/100\n",
            "105/105 [==============================] - 0s 461us/step - loss: 0.1780 - acc: 0.9619\n",
            "Epoch 61/100\n",
            "105/105 [==============================] - 0s 489us/step - loss: 0.1737 - acc: 0.9619\n",
            "Epoch 62/100\n",
            "105/105 [==============================] - 0s 477us/step - loss: 0.1803 - acc: 0.9619\n",
            "Epoch 63/100\n",
            "105/105 [==============================] - 0s 712us/step - loss: 0.1694 - acc: 0.9619\n",
            "Epoch 64/100\n",
            "105/105 [==============================] - 0s 425us/step - loss: 0.1562 - acc: 0.9619\n",
            "Epoch 65/100\n",
            "105/105 [==============================] - 0s 411us/step - loss: 0.1695 - acc: 0.9524\n",
            "Epoch 66/100\n",
            "105/105 [==============================] - 0s 412us/step - loss: 0.1670 - acc: 0.9524\n",
            "Epoch 67/100\n",
            "105/105 [==============================] - 0s 424us/step - loss: 0.2035 - acc: 0.9238\n",
            "Epoch 68/100\n",
            "105/105 [==============================] - 0s 428us/step - loss: 0.1804 - acc: 0.9238\n",
            "Epoch 69/100\n",
            "105/105 [==============================] - 0s 417us/step - loss: 0.1706 - acc: 0.9333\n",
            "Epoch 70/100\n",
            "105/105 [==============================] - 0s 412us/step - loss: 0.1606 - acc: 0.9429\n",
            "Epoch 71/100\n",
            "105/105 [==============================] - 0s 425us/step - loss: 0.1994 - acc: 0.9143\n",
            "Epoch 72/100\n",
            "105/105 [==============================] - 0s 428us/step - loss: 0.1908 - acc: 0.9429\n",
            "Epoch 73/100\n",
            "105/105 [==============================] - 0s 395us/step - loss: 0.1445 - acc: 0.9524\n",
            "Epoch 74/100\n",
            "105/105 [==============================] - 0s 399us/step - loss: 0.1572 - acc: 0.9524\n",
            "Epoch 75/100\n",
            "105/105 [==============================] - 0s 408us/step - loss: 0.1571 - acc: 0.9714\n",
            "Epoch 76/100\n",
            "105/105 [==============================] - 0s 395us/step - loss: 0.1493 - acc: 0.9714\n",
            "Epoch 77/100\n",
            "105/105 [==============================] - 0s 404us/step - loss: 0.1382 - acc: 0.9333\n",
            "Epoch 78/100\n",
            "105/105 [==============================] - 0s 486us/step - loss: 0.1677 - acc: 0.9238\n",
            "Epoch 79/100\n",
            "105/105 [==============================] - 0s 414us/step - loss: 0.1488 - acc: 0.9524\n",
            "Epoch 80/100\n",
            "105/105 [==============================] - 0s 468us/step - loss: 0.1466 - acc: 0.9524\n",
            "Epoch 81/100\n",
            "105/105 [==============================] - 0s 471us/step - loss: 0.1411 - acc: 0.9619\n",
            "Epoch 82/100\n",
            "105/105 [==============================] - 0s 464us/step - loss: 0.1492 - acc: 0.9619\n",
            "Epoch 83/100\n",
            "105/105 [==============================] - 0s 638us/step - loss: 0.1594 - acc: 0.9333\n",
            "Epoch 84/100\n",
            "105/105 [==============================] - 0s 697us/step - loss: 0.1293 - acc: 0.9714\n",
            "Epoch 85/100\n",
            "105/105 [==============================] - 0s 491us/step - loss: 0.1364 - acc: 0.9429\n",
            "Epoch 86/100\n",
            "105/105 [==============================] - 0s 457us/step - loss: 0.1573 - acc: 0.9619\n",
            "Epoch 87/100\n",
            "105/105 [==============================] - 0s 422us/step - loss: 0.1313 - acc: 0.9714\n",
            "Epoch 88/100\n",
            "105/105 [==============================] - 0s 425us/step - loss: 0.1371 - acc: 0.9619\n",
            "Epoch 89/100\n",
            "105/105 [==============================] - 0s 459us/step - loss: 0.1516 - acc: 0.9429\n",
            "Epoch 90/100\n",
            "105/105 [==============================] - 0s 458us/step - loss: 0.1391 - acc: 0.9524\n",
            "Epoch 91/100\n",
            "105/105 [==============================] - 0s 446us/step - loss: 0.1346 - acc: 0.9524\n",
            "Epoch 92/100\n",
            "105/105 [==============================] - 0s 448us/step - loss: 0.1362 - acc: 0.9619\n",
            "Epoch 93/100\n",
            "105/105 [==============================] - 0s 431us/step - loss: 0.1368 - acc: 0.9619\n",
            "Epoch 94/100\n",
            "105/105 [==============================] - 0s 507us/step - loss: 0.1492 - acc: 0.9524\n",
            "Epoch 95/100\n",
            "105/105 [==============================] - 0s 460us/step - loss: 0.1325 - acc: 0.9714\n",
            "Epoch 96/100\n",
            "105/105 [==============================] - 0s 439us/step - loss: 0.1488 - acc: 0.9333\n",
            "Epoch 97/100\n",
            "105/105 [==============================] - 0s 461us/step - loss: 0.1454 - acc: 0.9333\n",
            "Epoch 98/100\n",
            "105/105 [==============================] - 0s 451us/step - loss: 0.1497 - acc: 0.9333\n",
            "Epoch 99/100\n",
            "105/105 [==============================] - 0s 467us/step - loss: 0.1170 - acc: 0.9714\n",
            "Epoch 100/100\n",
            "105/105 [==============================] - 0s 475us/step - loss: 0.1306 - acc: 0.9524\n"
          ],
          "name": "stdout"
        },
        {
          "output_type": "execute_result",
          "data": {
            "text/plain": [
              "<keras.callbacks.History at 0x7f29102f2f98>"
            ]
          },
          "metadata": {
            "tags": []
          },
          "execution_count": 110
        }
      ]
    },
    {
      "cell_type": "markdown",
      "metadata": {
        "colab_type": "text",
        "id": "y-SgSSdRcih5"
      },
      "source": [
        "### Model Prediction"
      ]
    },
    {
      "cell_type": "code",
      "metadata": {
        "colab_type": "code",
        "id": "GBgKZkhkcih6",
        "colab": {
          "base_uri": "https://localhost:8080/",
          "height": 52
        },
        "outputId": "329186f1-bb62-4512-d2ba-35cb45118b85"
      },
      "source": [
        "scores = model.evaluate(X_train, y_train)\n",
        "scores[1]*100"
      ],
      "execution_count": 112,
      "outputs": [
        {
          "output_type": "stream",
          "text": [
            "105/105 [==============================] - 0s 228us/step\n"
          ],
          "name": "stdout"
        },
        {
          "output_type": "execute_result",
          "data": {
            "text/plain": [
              "96.19047624724251"
            ]
          },
          "metadata": {
            "tags": []
          },
          "execution_count": 112
        }
      ]
    },
    {
      "cell_type": "markdown",
      "metadata": {
        "colab_type": "text",
        "id": "P32ASP1Vjt0a"
      },
      "source": [
        "### Save the Model"
      ]
    },
    {
      "cell_type": "code",
      "metadata": {
        "colab_type": "code",
        "id": "n8rd0jjAjyTR",
        "colab": {}
      },
      "source": [
        "model.save('/content/drive/My Drive/ColabNotebooks/model.hdf')"
      ],
      "execution_count": 0,
      "outputs": []
    },
    {
      "cell_type": "markdown",
      "metadata": {
        "colab_type": "text",
        "id": "XiipRpe7rbVh"
      },
      "source": [
        "### Build and Train a Deep Neural network with 2 hidden layer  - Optional - For Practice\n",
        "\n",
        "Does it perform better than Linear Classifier? What could be the reason for difference in performance?"
      ]
    },
    {
      "cell_type": "code",
      "metadata": {
        "colab_type": "code",
        "id": "v5Du3lubr4sA",
        "colab": {}
      },
      "source": [
        ""
      ],
      "execution_count": 0,
      "outputs": []
    }
  ]
}